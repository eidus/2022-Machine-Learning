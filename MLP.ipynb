{
 "cells": [
  {
   "attachments": {},
   "cell_type": "markdown",
   "metadata": {},
   "source": [
    "### import"
   ]
  },
  {
   "cell_type": "code",
   "execution_count": 1,
   "metadata": {},
   "outputs": [],
   "source": [
    "import pandas as pd\n",
    "import numpy as np\n",
    "import matplotlib.pyplot as plt"
   ]
  },
  {
   "cell_type": "code",
   "execution_count": 2,
   "metadata": {},
   "outputs": [],
   "source": [
    "from sklearn.pipeline import Pipeline"
   ]
  },
  {
   "cell_type": "code",
   "execution_count": 3,
   "metadata": {},
   "outputs": [],
   "source": [
    "# 공통 모듈 임포트\n",
    "import numpy as np\n",
    "import os\n",
    "\n",
    "# 노트북 실행 결과를 동일하게 유지하기 위해\n",
    "np.random.seed(42)\n",
    "\n",
    "# 깔끔한 그래프 출력을 위해\n",
    "%matplotlib inline\n",
    "import matplotlib as mpl\n",
    "import matplotlib.pyplot as plt\n",
    "mpl.rc('axes', labelsize=14)\n",
    "mpl.rc('xtick', labelsize=12)\n",
    "mpl.rc('ytick', labelsize=12)\n",
    "\n",
    "# 그림을 저장할 위치\n",
    "PROJECT_ROOT_DIR = \".\"\n",
    "CHAPTER_ID = \"classification\"\n",
    "IMAGES_PATH = os.path.join(PROJECT_ROOT_DIR, \"images\", CHAPTER_ID)\n",
    "os.makedirs(IMAGES_PATH, exist_ok=True)\n",
    "\n",
    "def save_fig(fig_id, tight_layout=True, fig_extension=\"png\", resolution=300):\n",
    "    path = os.path.join(IMAGES_PATH, fig_id + \".\" + fig_extension)\n",
    "    print(\"그림 저장:\", fig_id)\n",
    "    if tight_layout:\n",
    "        plt.tight_layout()\n",
    "    plt.savefig(path, format=fig_extension, dpi=resolution)"
   ]
  },
  {
   "cell_type": "code",
   "execution_count": 4,
   "metadata": {},
   "outputs": [],
   "source": [
    "import warnings\n",
    "warnings.filterwarnings(action=\"ignore\", message=\"^internal gelsd\")"
   ]
  },
  {
   "cell_type": "code",
   "execution_count": 5,
   "metadata": {},
   "outputs": [
    {
     "name": "stderr",
     "output_type": "stream",
     "text": [
      "C:\\Users\\rladb\\AppData\\Local\\Temp\\ipykernel_2808\\812191727.py:4: DtypeWarning: Columns (2) have mixed types. Specify dtype option on import or set low_memory=False.\n",
      "  data22 = pd.read_csv(\"C:\\\\Users\\\\rladb\\\\Desktop\\\\2022년 2학기\\\\머신러닝\\\\ML_Project\\\\2022_LoL_esports_match_data_from_OraclesElixir_20221206.csv\", encoding = \"cp949\",na_values= '#DIV/0!' )\n"
     ]
    }
   ],
   "source": [
    "# 다운로드\n",
    "data20 = pd.read_csv(\"C:\\\\Users\\\\rladb\\\\Desktop\\\\2022년 2학기\\\\머신러닝\\\\ML_Project\\\\2020_LoL_esports_match_data_from_OraclesElixir_20221210.csv\", encoding = \"cp949\",na_values= '#DIV/0!' )\n",
    "data21 = pd.read_csv(\"C:\\\\Users\\\\rladb\\\\Desktop\\\\2022년 2학기\\\\머신러닝\\\\ML_Project\\\\2021_LoL_esports_match_data_from_OraclesElixir_20221210.csv\", encoding = \"cp949\",na_values= '#DIV/0!' )\n",
    "data22 = pd.read_csv(\"C:\\\\Users\\\\rladb\\\\Desktop\\\\2022년 2학기\\\\머신러닝\\\\ML_Project\\\\2022_LoL_esports_match_data_from_OraclesElixir_20221206.csv\", encoding = \"cp949\",na_values= '#DIV/0!' )\n",
    "\n",
    "# list 저장\n",
    "df_list = [data20,data21,data22]\n",
    "\n",
    "# 합침\n",
    "data_clean = pd.concat(df_list, ignore_index = True)"
   ]
  },
  {
   "attachments": {},
   "cell_type": "markdown",
   "metadata": {},
   "source": [
    "### 데이터 전처리"
   ]
  },
  {
   "cell_type": "code",
   "execution_count": 6,
   "metadata": {},
   "outputs": [
    {
     "name": "stdout",
     "output_type": "stream",
     "text": [
      "118668 150264 148200  =  417132\n",
      "417132\n"
     ]
    }
   ],
   "source": [
    "print(len(data20),len(data21),len(data22),\" = \",len(data20)+len(data21)+len(data22))\n",
    "print(len(data_clean))"
   ]
  },
  {
   "cell_type": "code",
   "execution_count": 7,
   "metadata": {},
   "outputs": [
    {
     "data": {
      "text/html": [
       "<div>\n",
       "<style scoped>\n",
       "    .dataframe tbody tr th:only-of-type {\n",
       "        vertical-align: middle;\n",
       "    }\n",
       "\n",
       "    .dataframe tbody tr th {\n",
       "        vertical-align: top;\n",
       "    }\n",
       "\n",
       "    .dataframe thead th {\n",
       "        text-align: right;\n",
       "    }\n",
       "</style>\n",
       "<table border=\"1\" class=\"dataframe\">\n",
       "  <thead>\n",
       "    <tr style=\"text-align: right;\">\n",
       "      <th></th>\n",
       "      <th>gameid</th>\n",
       "      <th>datacompleteness</th>\n",
       "      <th>url</th>\n",
       "      <th>league</th>\n",
       "      <th>year</th>\n",
       "      <th>split</th>\n",
       "      <th>playoffs</th>\n",
       "      <th>date</th>\n",
       "      <th>game</th>\n",
       "      <th>patch</th>\n",
       "      <th>...</th>\n",
       "      <th>opp_csat15</th>\n",
       "      <th>golddiffat15</th>\n",
       "      <th>xpdiffat15</th>\n",
       "      <th>csdiffat15</th>\n",
       "      <th>killsat15</th>\n",
       "      <th>assistsat15</th>\n",
       "      <th>deathsat15</th>\n",
       "      <th>opp_killsat15</th>\n",
       "      <th>opp_assistsat15</th>\n",
       "      <th>opp_deathsat15</th>\n",
       "    </tr>\n",
       "  </thead>\n",
       "  <tbody>\n",
       "    <tr>\n",
       "      <th>0</th>\n",
       "      <td>ESPORTSTMNT03/1241318</td>\n",
       "      <td>complete</td>\n",
       "      <td>http://matchhistory.na.leagueoflegends.com/en/...</td>\n",
       "      <td>KeSPA</td>\n",
       "      <td>2020</td>\n",
       "      <td>NaN</td>\n",
       "      <td>0</td>\n",
       "      <td>2020-01-03 7:33</td>\n",
       "      <td>1.0</td>\n",
       "      <td>9.24</td>\n",
       "      <td>...</td>\n",
       "      <td>118.0</td>\n",
       "      <td>165.0</td>\n",
       "      <td>166.0</td>\n",
       "      <td>13.0</td>\n",
       "      <td>0.0</td>\n",
       "      <td>0.0</td>\n",
       "      <td>0.0</td>\n",
       "      <td>0.0</td>\n",
       "      <td>0.0</td>\n",
       "      <td>0.0</td>\n",
       "    </tr>\n",
       "    <tr>\n",
       "      <th>1</th>\n",
       "      <td>ESPORTSTMNT03/1241318</td>\n",
       "      <td>complete</td>\n",
       "      <td>http://matchhistory.na.leagueoflegends.com/en/...</td>\n",
       "      <td>KeSPA</td>\n",
       "      <td>2020</td>\n",
       "      <td>NaN</td>\n",
       "      <td>0</td>\n",
       "      <td>2020-01-03 7:33</td>\n",
       "      <td>1.0</td>\n",
       "      <td>9.24</td>\n",
       "      <td>...</td>\n",
       "      <td>98.0</td>\n",
       "      <td>-399.0</td>\n",
       "      <td>150.0</td>\n",
       "      <td>-7.0</td>\n",
       "      <td>0.0</td>\n",
       "      <td>0.0</td>\n",
       "      <td>0.0</td>\n",
       "      <td>1.0</td>\n",
       "      <td>0.0</td>\n",
       "      <td>0.0</td>\n",
       "    </tr>\n",
       "    <tr>\n",
       "      <th>2</th>\n",
       "      <td>ESPORTSTMNT03/1241318</td>\n",
       "      <td>complete</td>\n",
       "      <td>http://matchhistory.na.leagueoflegends.com/en/...</td>\n",
       "      <td>KeSPA</td>\n",
       "      <td>2020</td>\n",
       "      <td>NaN</td>\n",
       "      <td>0</td>\n",
       "      <td>2020-01-03 7:33</td>\n",
       "      <td>1.0</td>\n",
       "      <td>9.24</td>\n",
       "      <td>...</td>\n",
       "      <td>140.0</td>\n",
       "      <td>-409.0</td>\n",
       "      <td>-1837.0</td>\n",
       "      <td>-11.0</td>\n",
       "      <td>0.0</td>\n",
       "      <td>0.0</td>\n",
       "      <td>1.0</td>\n",
       "      <td>0.0</td>\n",
       "      <td>1.0</td>\n",
       "      <td>0.0</td>\n",
       "    </tr>\n",
       "    <tr>\n",
       "      <th>3</th>\n",
       "      <td>ESPORTSTMNT03/1241318</td>\n",
       "      <td>complete</td>\n",
       "      <td>http://matchhistory.na.leagueoflegends.com/en/...</td>\n",
       "      <td>KeSPA</td>\n",
       "      <td>2020</td>\n",
       "      <td>NaN</td>\n",
       "      <td>0</td>\n",
       "      <td>2020-01-03 7:33</td>\n",
       "      <td>1.0</td>\n",
       "      <td>9.24</td>\n",
       "      <td>...</td>\n",
       "      <td>135.0</td>\n",
       "      <td>51.0</td>\n",
       "      <td>-401.0</td>\n",
       "      <td>1.0</td>\n",
       "      <td>0.0</td>\n",
       "      <td>0.0</td>\n",
       "      <td>0.0</td>\n",
       "      <td>0.0</td>\n",
       "      <td>0.0</td>\n",
       "      <td>0.0</td>\n",
       "    </tr>\n",
       "    <tr>\n",
       "      <th>4</th>\n",
       "      <td>ESPORTSTMNT03/1241318</td>\n",
       "      <td>complete</td>\n",
       "      <td>http://matchhistory.na.leagueoflegends.com/en/...</td>\n",
       "      <td>KeSPA</td>\n",
       "      <td>2020</td>\n",
       "      <td>NaN</td>\n",
       "      <td>0</td>\n",
       "      <td>2020-01-03 7:33</td>\n",
       "      <td>1.0</td>\n",
       "      <td>9.24</td>\n",
       "      <td>...</td>\n",
       "      <td>28.0</td>\n",
       "      <td>-233.0</td>\n",
       "      <td>257.0</td>\n",
       "      <td>-8.0</td>\n",
       "      <td>0.0</td>\n",
       "      <td>0.0</td>\n",
       "      <td>0.0</td>\n",
       "      <td>0.0</td>\n",
       "      <td>1.0</td>\n",
       "      <td>0.0</td>\n",
       "    </tr>\n",
       "  </tbody>\n",
       "</table>\n",
       "<p>5 rows × 128 columns</p>\n",
       "</div>"
      ],
      "text/plain": [
       "                  gameid datacompleteness  \\\n",
       "0  ESPORTSTMNT03/1241318         complete   \n",
       "1  ESPORTSTMNT03/1241318         complete   \n",
       "2  ESPORTSTMNT03/1241318         complete   \n",
       "3  ESPORTSTMNT03/1241318         complete   \n",
       "4  ESPORTSTMNT03/1241318         complete   \n",
       "\n",
       "                                                 url league  year split  \\\n",
       "0  http://matchhistory.na.leagueoflegends.com/en/...  KeSPA  2020   NaN   \n",
       "1  http://matchhistory.na.leagueoflegends.com/en/...  KeSPA  2020   NaN   \n",
       "2  http://matchhistory.na.leagueoflegends.com/en/...  KeSPA  2020   NaN   \n",
       "3  http://matchhistory.na.leagueoflegends.com/en/...  KeSPA  2020   NaN   \n",
       "4  http://matchhistory.na.leagueoflegends.com/en/...  KeSPA  2020   NaN   \n",
       "\n",
       "   playoffs             date  game  patch  ...  opp_csat15 golddiffat15  \\\n",
       "0         0  2020-01-03 7:33   1.0   9.24  ...       118.0        165.0   \n",
       "1         0  2020-01-03 7:33   1.0   9.24  ...        98.0       -399.0   \n",
       "2         0  2020-01-03 7:33   1.0   9.24  ...       140.0       -409.0   \n",
       "3         0  2020-01-03 7:33   1.0   9.24  ...       135.0         51.0   \n",
       "4         0  2020-01-03 7:33   1.0   9.24  ...        28.0       -233.0   \n",
       "\n",
       "  xpdiffat15 csdiffat15 killsat15 assistsat15 deathsat15  opp_killsat15  \\\n",
       "0      166.0       13.0       0.0         0.0        0.0            0.0   \n",
       "1      150.0       -7.0       0.0         0.0        0.0            1.0   \n",
       "2    -1837.0      -11.0       0.0         0.0        1.0            0.0   \n",
       "3     -401.0        1.0       0.0         0.0        0.0            0.0   \n",
       "4      257.0       -8.0       0.0         0.0        0.0            0.0   \n",
       "\n",
       "   opp_assistsat15  opp_deathsat15  \n",
       "0              0.0             0.0  \n",
       "1              0.0             0.0  \n",
       "2              1.0             0.0  \n",
       "3              0.0             0.0  \n",
       "4              1.0             0.0  \n",
       "\n",
       "[5 rows x 128 columns]"
      ]
     },
     "execution_count": 7,
     "metadata": {},
     "output_type": "execute_result"
    }
   ],
   "source": [
    "data_clean.head()"
   ]
  },
  {
   "cell_type": "code",
   "execution_count": 8,
   "metadata": {},
   "outputs": [
    {
     "data": {
      "text/plain": [
       "complete    381732\n",
       "partial      34884\n",
       "reparse        516\n",
       "Name: datacompleteness, dtype: int64"
      ]
     },
     "execution_count": 8,
     "metadata": {},
     "output_type": "execute_result"
    }
   ],
   "source": [
    "data_clean[\"datacompleteness\"].value_counts()"
   ]
  },
  {
   "cell_type": "code",
   "execution_count": 9,
   "metadata": {},
   "outputs": [
    {
     "data": {
      "text/plain": [
       "LDL     39192\n",
       "LPL     27120\n",
       "LCK     17268\n",
       "LCSA    14028\n",
       "UPL     12612\n",
       "        ...  \n",
       "NEST      600\n",
       "NERD      504\n",
       "AOL       444\n",
       "MSC       300\n",
       "Riot      240\n",
       "Name: league, Length: 72, dtype: int64"
      ]
     },
     "execution_count": 9,
     "metadata": {},
     "output_type": "execute_result"
    }
   ],
   "source": [
    "data_clean[\"league\"].value_counts()"
   ]
  },
  {
   "attachments": {},
   "cell_type": "markdown",
   "metadata": {},
   "source": [
    "#### data가 complete된 것 만 추출"
   ]
  },
  {
   "cell_type": "code",
   "execution_count": 6,
   "metadata": {},
   "outputs": [
    {
     "data": {
      "text/html": [
       "<div>\n",
       "<style scoped>\n",
       "    .dataframe tbody tr th:only-of-type {\n",
       "        vertical-align: middle;\n",
       "    }\n",
       "\n",
       "    .dataframe tbody tr th {\n",
       "        vertical-align: top;\n",
       "    }\n",
       "\n",
       "    .dataframe thead th {\n",
       "        text-align: right;\n",
       "    }\n",
       "</style>\n",
       "<table border=\"1\" class=\"dataframe\">\n",
       "  <thead>\n",
       "    <tr style=\"text-align: right;\">\n",
       "      <th></th>\n",
       "      <th>gameid</th>\n",
       "      <th>datacompleteness</th>\n",
       "      <th>url</th>\n",
       "      <th>league</th>\n",
       "      <th>year</th>\n",
       "      <th>split</th>\n",
       "      <th>playoffs</th>\n",
       "      <th>date</th>\n",
       "      <th>game</th>\n",
       "      <th>patch</th>\n",
       "      <th>...</th>\n",
       "      <th>opp_csat15</th>\n",
       "      <th>golddiffat15</th>\n",
       "      <th>xpdiffat15</th>\n",
       "      <th>csdiffat15</th>\n",
       "      <th>killsat15</th>\n",
       "      <th>assistsat15</th>\n",
       "      <th>deathsat15</th>\n",
       "      <th>opp_killsat15</th>\n",
       "      <th>opp_assistsat15</th>\n",
       "      <th>opp_deathsat15</th>\n",
       "    </tr>\n",
       "  </thead>\n",
       "  <tbody>\n",
       "    <tr>\n",
       "      <th>0</th>\n",
       "      <td>ESPORTSTMNT03/1241318</td>\n",
       "      <td>complete</td>\n",
       "      <td>http://matchhistory.na.leagueoflegends.com/en/...</td>\n",
       "      <td>KeSPA</td>\n",
       "      <td>2020</td>\n",
       "      <td>NaN</td>\n",
       "      <td>0</td>\n",
       "      <td>2020-01-03 7:33</td>\n",
       "      <td>1.0</td>\n",
       "      <td>9.24</td>\n",
       "      <td>...</td>\n",
       "      <td>118.0</td>\n",
       "      <td>165.0</td>\n",
       "      <td>166.0</td>\n",
       "      <td>13.0</td>\n",
       "      <td>0.0</td>\n",
       "      <td>0.0</td>\n",
       "      <td>0.0</td>\n",
       "      <td>0.0</td>\n",
       "      <td>0.0</td>\n",
       "      <td>0.0</td>\n",
       "    </tr>\n",
       "    <tr>\n",
       "      <th>1</th>\n",
       "      <td>ESPORTSTMNT03/1241318</td>\n",
       "      <td>complete</td>\n",
       "      <td>http://matchhistory.na.leagueoflegends.com/en/...</td>\n",
       "      <td>KeSPA</td>\n",
       "      <td>2020</td>\n",
       "      <td>NaN</td>\n",
       "      <td>0</td>\n",
       "      <td>2020-01-03 7:33</td>\n",
       "      <td>1.0</td>\n",
       "      <td>9.24</td>\n",
       "      <td>...</td>\n",
       "      <td>98.0</td>\n",
       "      <td>-399.0</td>\n",
       "      <td>150.0</td>\n",
       "      <td>-7.0</td>\n",
       "      <td>0.0</td>\n",
       "      <td>0.0</td>\n",
       "      <td>0.0</td>\n",
       "      <td>1.0</td>\n",
       "      <td>0.0</td>\n",
       "      <td>0.0</td>\n",
       "    </tr>\n",
       "    <tr>\n",
       "      <th>2</th>\n",
       "      <td>ESPORTSTMNT03/1241318</td>\n",
       "      <td>complete</td>\n",
       "      <td>http://matchhistory.na.leagueoflegends.com/en/...</td>\n",
       "      <td>KeSPA</td>\n",
       "      <td>2020</td>\n",
       "      <td>NaN</td>\n",
       "      <td>0</td>\n",
       "      <td>2020-01-03 7:33</td>\n",
       "      <td>1.0</td>\n",
       "      <td>9.24</td>\n",
       "      <td>...</td>\n",
       "      <td>140.0</td>\n",
       "      <td>-409.0</td>\n",
       "      <td>-1837.0</td>\n",
       "      <td>-11.0</td>\n",
       "      <td>0.0</td>\n",
       "      <td>0.0</td>\n",
       "      <td>1.0</td>\n",
       "      <td>0.0</td>\n",
       "      <td>1.0</td>\n",
       "      <td>0.0</td>\n",
       "    </tr>\n",
       "    <tr>\n",
       "      <th>3</th>\n",
       "      <td>ESPORTSTMNT03/1241318</td>\n",
       "      <td>complete</td>\n",
       "      <td>http://matchhistory.na.leagueoflegends.com/en/...</td>\n",
       "      <td>KeSPA</td>\n",
       "      <td>2020</td>\n",
       "      <td>NaN</td>\n",
       "      <td>0</td>\n",
       "      <td>2020-01-03 7:33</td>\n",
       "      <td>1.0</td>\n",
       "      <td>9.24</td>\n",
       "      <td>...</td>\n",
       "      <td>135.0</td>\n",
       "      <td>51.0</td>\n",
       "      <td>-401.0</td>\n",
       "      <td>1.0</td>\n",
       "      <td>0.0</td>\n",
       "      <td>0.0</td>\n",
       "      <td>0.0</td>\n",
       "      <td>0.0</td>\n",
       "      <td>0.0</td>\n",
       "      <td>0.0</td>\n",
       "    </tr>\n",
       "    <tr>\n",
       "      <th>4</th>\n",
       "      <td>ESPORTSTMNT03/1241318</td>\n",
       "      <td>complete</td>\n",
       "      <td>http://matchhistory.na.leagueoflegends.com/en/...</td>\n",
       "      <td>KeSPA</td>\n",
       "      <td>2020</td>\n",
       "      <td>NaN</td>\n",
       "      <td>0</td>\n",
       "      <td>2020-01-03 7:33</td>\n",
       "      <td>1.0</td>\n",
       "      <td>9.24</td>\n",
       "      <td>...</td>\n",
       "      <td>28.0</td>\n",
       "      <td>-233.0</td>\n",
       "      <td>257.0</td>\n",
       "      <td>-8.0</td>\n",
       "      <td>0.0</td>\n",
       "      <td>0.0</td>\n",
       "      <td>0.0</td>\n",
       "      <td>0.0</td>\n",
       "      <td>1.0</td>\n",
       "      <td>0.0</td>\n",
       "    </tr>\n",
       "  </tbody>\n",
       "</table>\n",
       "<p>5 rows × 128 columns</p>\n",
       "</div>"
      ],
      "text/plain": [
       "                  gameid datacompleteness  \\\n",
       "0  ESPORTSTMNT03/1241318         complete   \n",
       "1  ESPORTSTMNT03/1241318         complete   \n",
       "2  ESPORTSTMNT03/1241318         complete   \n",
       "3  ESPORTSTMNT03/1241318         complete   \n",
       "4  ESPORTSTMNT03/1241318         complete   \n",
       "\n",
       "                                                 url league  year split  \\\n",
       "0  http://matchhistory.na.leagueoflegends.com/en/...  KeSPA  2020   NaN   \n",
       "1  http://matchhistory.na.leagueoflegends.com/en/...  KeSPA  2020   NaN   \n",
       "2  http://matchhistory.na.leagueoflegends.com/en/...  KeSPA  2020   NaN   \n",
       "3  http://matchhistory.na.leagueoflegends.com/en/...  KeSPA  2020   NaN   \n",
       "4  http://matchhistory.na.leagueoflegends.com/en/...  KeSPA  2020   NaN   \n",
       "\n",
       "   playoffs             date  game  patch  ...  opp_csat15 golddiffat15  \\\n",
       "0         0  2020-01-03 7:33   1.0   9.24  ...       118.0        165.0   \n",
       "1         0  2020-01-03 7:33   1.0   9.24  ...        98.0       -399.0   \n",
       "2         0  2020-01-03 7:33   1.0   9.24  ...       140.0       -409.0   \n",
       "3         0  2020-01-03 7:33   1.0   9.24  ...       135.0         51.0   \n",
       "4         0  2020-01-03 7:33   1.0   9.24  ...        28.0       -233.0   \n",
       "\n",
       "  xpdiffat15 csdiffat15 killsat15 assistsat15 deathsat15  opp_killsat15  \\\n",
       "0      166.0       13.0       0.0         0.0        0.0            0.0   \n",
       "1      150.0       -7.0       0.0         0.0        0.0            1.0   \n",
       "2    -1837.0      -11.0       0.0         0.0        1.0            0.0   \n",
       "3     -401.0        1.0       0.0         0.0        0.0            0.0   \n",
       "4      257.0       -8.0       0.0         0.0        0.0            0.0   \n",
       "\n",
       "   opp_assistsat15  opp_deathsat15  \n",
       "0              0.0             0.0  \n",
       "1              0.0             0.0  \n",
       "2              1.0             0.0  \n",
       "3              0.0             0.0  \n",
       "4              1.0             0.0  \n",
       "\n",
       "[5 rows x 128 columns]"
      ]
     },
     "execution_count": 6,
     "metadata": {},
     "output_type": "execute_result"
    }
   ],
   "source": [
    "data_clean = data_clean[data_clean[\"datacompleteness\"].str.contains(\"complete\")];data_clean.head()"
   ]
  },
  {
   "cell_type": "code",
   "execution_count": 11,
   "metadata": {},
   "outputs": [
    {
     "data": {
      "text/plain": [
       "complete    381732\n",
       "Name: datacompleteness, dtype: int64"
      ]
     },
     "execution_count": 11,
     "metadata": {},
     "output_type": "execute_result"
    }
   ],
   "source": [
    "data_clean[\"datacompleteness\"].value_counts()"
   ]
  },
  {
   "attachments": {},
   "cell_type": "markdown",
   "metadata": {},
   "source": [
    "#### team data만 가져오기"
   ]
  },
  {
   "cell_type": "code",
   "execution_count": 12,
   "metadata": {},
   "outputs": [
    {
     "data": {
      "text/plain": [
       "top     63622\n",
       "jng     63622\n",
       "mid     63622\n",
       "bot     63622\n",
       "sup     63622\n",
       "team    63622\n",
       "Name: position, dtype: int64"
      ]
     },
     "execution_count": 12,
     "metadata": {},
     "output_type": "execute_result"
    }
   ],
   "source": [
    "data_clean[\"position\"].value_counts()"
   ]
  },
  {
   "cell_type": "code",
   "execution_count": 7,
   "metadata": {},
   "outputs": [],
   "source": [
    "data = data_clean[data_clean[\"position\"].str.contains(\"team\")]"
   ]
  },
  {
   "cell_type": "code",
   "execution_count": 22,
   "metadata": {},
   "outputs": [
    {
     "data": {
      "text/plain": [
       "63622"
      ]
     },
     "execution_count": 22,
     "metadata": {},
     "output_type": "execute_result"
    }
   ],
   "source": [
    "len(data)"
   ]
  },
  {
   "cell_type": "code",
   "execution_count": 23,
   "metadata": {},
   "outputs": [
    {
     "data": {
      "text/html": [
       "<div>\n",
       "<style scoped>\n",
       "    .dataframe tbody tr th:only-of-type {\n",
       "        vertical-align: middle;\n",
       "    }\n",
       "\n",
       "    .dataframe tbody tr th {\n",
       "        vertical-align: top;\n",
       "    }\n",
       "\n",
       "    .dataframe thead th {\n",
       "        text-align: right;\n",
       "    }\n",
       "</style>\n",
       "<table border=\"1\" class=\"dataframe\">\n",
       "  <thead>\n",
       "    <tr style=\"text-align: right;\">\n",
       "      <th></th>\n",
       "      <th>gameid</th>\n",
       "      <th>datacompleteness</th>\n",
       "      <th>url</th>\n",
       "      <th>league</th>\n",
       "      <th>year</th>\n",
       "      <th>split</th>\n",
       "      <th>playoffs</th>\n",
       "      <th>date</th>\n",
       "      <th>game</th>\n",
       "      <th>patch</th>\n",
       "      <th>...</th>\n",
       "      <th>opp_csat15</th>\n",
       "      <th>golddiffat15</th>\n",
       "      <th>xpdiffat15</th>\n",
       "      <th>csdiffat15</th>\n",
       "      <th>killsat15</th>\n",
       "      <th>assistsat15</th>\n",
       "      <th>deathsat15</th>\n",
       "      <th>opp_killsat15</th>\n",
       "      <th>opp_assistsat15</th>\n",
       "      <th>opp_deathsat15</th>\n",
       "    </tr>\n",
       "  </thead>\n",
       "  <tbody>\n",
       "    <tr>\n",
       "      <th>10</th>\n",
       "      <td>ESPORTSTMNT03/1241318</td>\n",
       "      <td>complete</td>\n",
       "      <td>http://matchhistory.na.leagueoflegends.com/en/...</td>\n",
       "      <td>KeSPA</td>\n",
       "      <td>2020</td>\n",
       "      <td>NaN</td>\n",
       "      <td>0</td>\n",
       "      <td>2020-01-03 7:33</td>\n",
       "      <td>1.0</td>\n",
       "      <td>9.24</td>\n",
       "      <td>...</td>\n",
       "      <td>519.0</td>\n",
       "      <td>-825.0</td>\n",
       "      <td>-1665.0</td>\n",
       "      <td>-12.0</td>\n",
       "      <td>0.0</td>\n",
       "      <td>0.0</td>\n",
       "      <td>1.0</td>\n",
       "      <td>1.0</td>\n",
       "      <td>2.0</td>\n",
       "      <td>0.0</td>\n",
       "    </tr>\n",
       "    <tr>\n",
       "      <th>11</th>\n",
       "      <td>ESPORTSTMNT03/1241318</td>\n",
       "      <td>complete</td>\n",
       "      <td>http://matchhistory.na.leagueoflegends.com/en/...</td>\n",
       "      <td>KeSPA</td>\n",
       "      <td>2020</td>\n",
       "      <td>NaN</td>\n",
       "      <td>0</td>\n",
       "      <td>2020-01-03 7:33</td>\n",
       "      <td>1.0</td>\n",
       "      <td>9.24</td>\n",
       "      <td>...</td>\n",
       "      <td>507.0</td>\n",
       "      <td>825.0</td>\n",
       "      <td>1665.0</td>\n",
       "      <td>12.0</td>\n",
       "      <td>1.0</td>\n",
       "      <td>2.0</td>\n",
       "      <td>0.0</td>\n",
       "      <td>0.0</td>\n",
       "      <td>0.0</td>\n",
       "      <td>1.0</td>\n",
       "    </tr>\n",
       "    <tr>\n",
       "      <th>22</th>\n",
       "      <td>ESPORTSTMNT03/1241322</td>\n",
       "      <td>complete</td>\n",
       "      <td>http://matchhistory.na.leagueoflegends.com/en/...</td>\n",
       "      <td>KeSPA</td>\n",
       "      <td>2020</td>\n",
       "      <td>NaN</td>\n",
       "      <td>0</td>\n",
       "      <td>2020-01-03 9:00</td>\n",
       "      <td>2.0</td>\n",
       "      <td>9.24</td>\n",
       "      <td>...</td>\n",
       "      <td>557.0</td>\n",
       "      <td>-5484.0</td>\n",
       "      <td>-4833.0</td>\n",
       "      <td>-56.0</td>\n",
       "      <td>0.0</td>\n",
       "      <td>0.0</td>\n",
       "      <td>6.0</td>\n",
       "      <td>6.0</td>\n",
       "      <td>7.0</td>\n",
       "      <td>0.0</td>\n",
       "    </tr>\n",
       "    <tr>\n",
       "      <th>23</th>\n",
       "      <td>ESPORTSTMNT03/1241322</td>\n",
       "      <td>complete</td>\n",
       "      <td>http://matchhistory.na.leagueoflegends.com/en/...</td>\n",
       "      <td>KeSPA</td>\n",
       "      <td>2020</td>\n",
       "      <td>NaN</td>\n",
       "      <td>0</td>\n",
       "      <td>2020-01-03 9:00</td>\n",
       "      <td>2.0</td>\n",
       "      <td>9.24</td>\n",
       "      <td>...</td>\n",
       "      <td>501.0</td>\n",
       "      <td>5484.0</td>\n",
       "      <td>4833.0</td>\n",
       "      <td>56.0</td>\n",
       "      <td>6.0</td>\n",
       "      <td>7.0</td>\n",
       "      <td>0.0</td>\n",
       "      <td>0.0</td>\n",
       "      <td>0.0</td>\n",
       "      <td>6.0</td>\n",
       "    </tr>\n",
       "    <tr>\n",
       "      <th>34</th>\n",
       "      <td>ESPORTSTMNT03/1241324</td>\n",
       "      <td>complete</td>\n",
       "      <td>http://matchhistory.na.leagueoflegends.com/en/...</td>\n",
       "      <td>KeSPA</td>\n",
       "      <td>2020</td>\n",
       "      <td>NaN</td>\n",
       "      <td>0</td>\n",
       "      <td>2020-01-03 10:05</td>\n",
       "      <td>3.0</td>\n",
       "      <td>9.24</td>\n",
       "      <td>...</td>\n",
       "      <td>531.0</td>\n",
       "      <td>2566.0</td>\n",
       "      <td>2097.0</td>\n",
       "      <td>53.0</td>\n",
       "      <td>0.0</td>\n",
       "      <td>0.0</td>\n",
       "      <td>0.0</td>\n",
       "      <td>0.0</td>\n",
       "      <td>0.0</td>\n",
       "      <td>0.0</td>\n",
       "    </tr>\n",
       "  </tbody>\n",
       "</table>\n",
       "<p>5 rows × 128 columns</p>\n",
       "</div>"
      ],
      "text/plain": [
       "                   gameid datacompleteness  \\\n",
       "10  ESPORTSTMNT03/1241318         complete   \n",
       "11  ESPORTSTMNT03/1241318         complete   \n",
       "22  ESPORTSTMNT03/1241322         complete   \n",
       "23  ESPORTSTMNT03/1241322         complete   \n",
       "34  ESPORTSTMNT03/1241324         complete   \n",
       "\n",
       "                                                  url league  year split  \\\n",
       "10  http://matchhistory.na.leagueoflegends.com/en/...  KeSPA  2020   NaN   \n",
       "11  http://matchhistory.na.leagueoflegends.com/en/...  KeSPA  2020   NaN   \n",
       "22  http://matchhistory.na.leagueoflegends.com/en/...  KeSPA  2020   NaN   \n",
       "23  http://matchhistory.na.leagueoflegends.com/en/...  KeSPA  2020   NaN   \n",
       "34  http://matchhistory.na.leagueoflegends.com/en/...  KeSPA  2020   NaN   \n",
       "\n",
       "    playoffs              date  game  patch  ...  opp_csat15 golddiffat15  \\\n",
       "10         0   2020-01-03 7:33   1.0   9.24  ...       519.0       -825.0   \n",
       "11         0   2020-01-03 7:33   1.0   9.24  ...       507.0        825.0   \n",
       "22         0   2020-01-03 9:00   2.0   9.24  ...       557.0      -5484.0   \n",
       "23         0   2020-01-03 9:00   2.0   9.24  ...       501.0       5484.0   \n",
       "34         0  2020-01-03 10:05   3.0   9.24  ...       531.0       2566.0   \n",
       "\n",
       "   xpdiffat15 csdiffat15 killsat15 assistsat15 deathsat15  opp_killsat15  \\\n",
       "10    -1665.0      -12.0       0.0         0.0        1.0            1.0   \n",
       "11     1665.0       12.0       1.0         2.0        0.0            0.0   \n",
       "22    -4833.0      -56.0       0.0         0.0        6.0            6.0   \n",
       "23     4833.0       56.0       6.0         7.0        0.0            0.0   \n",
       "34     2097.0       53.0       0.0         0.0        0.0            0.0   \n",
       "\n",
       "    opp_assistsat15  opp_deathsat15  \n",
       "10              2.0             0.0  \n",
       "11              0.0             1.0  \n",
       "22              7.0             0.0  \n",
       "23              0.0             6.0  \n",
       "34              0.0             0.0  \n",
       "\n",
       "[5 rows x 128 columns]"
      ]
     },
     "execution_count": 23,
     "metadata": {},
     "output_type": "execute_result"
    }
   ],
   "source": [
    "data.head()"
   ]
  },
  {
   "attachments": {},
   "cell_type": "markdown",
   "metadata": {},
   "source": [
    "#### 필요한 열 추출"
   ]
  },
  {
   "cell_type": "code",
   "execution_count": 24,
   "metadata": {},
   "outputs": [
    {
     "data": {
      "text/plain": [
       "128"
      ]
     },
     "execution_count": 24,
     "metadata": {},
     "output_type": "execute_result"
    }
   ],
   "source": [
    "len(data.columns)"
   ]
  },
  {
   "cell_type": "code",
   "execution_count": 25,
   "metadata": {},
   "outputs": [
    {
     "data": {
      "text/plain": [
       "Index(['gameid', 'datacompleteness', 'url', 'league', 'year', 'split',\n",
       "       'playoffs', 'date', 'game', 'patch',\n",
       "       ...\n",
       "       'opp_csat15', 'golddiffat15', 'xpdiffat15', 'csdiffat15', 'killsat15',\n",
       "       'assistsat15', 'deathsat15', 'opp_killsat15', 'opp_assistsat15',\n",
       "       'opp_deathsat15'],\n",
       "      dtype='object', length=128)"
      ]
     },
     "execution_count": 25,
     "metadata": {},
     "output_type": "execute_result"
    }
   ],
   "source": [
    "data.columns"
   ]
  },
  {
   "attachments": {},
   "cell_type": "markdown",
   "metadata": {},
   "source": [
    "##### 필요없는 변수 제거"
   ]
  },
  {
   "cell_type": "code",
   "execution_count": 8,
   "metadata": {},
   "outputs": [],
   "source": [
    "data = data[['result','top_dtpm','jng_ka','mid_dpm','bot_dpm','sup_apg','kills','deaths','assists','firstblood','team kpm','ckpm','firstdragon','dragons','elders','firstherald',\n",
    "'heralds','firstbaron','barons','firsttower','towers','firsttothreetowers','inhibitors','dpm','wpm','totalgold','goldat10','xpat10','csat10','golddiffat10','xpdiffat10','csdiffat10','killsat10','assistsat10','deathsat10','goldat15','xpat15','csat15','golddiffat15','xpdiffat15','csdiffat15','killsat15','assistsat15','deathsat15']]"
   ]
  },
  {
   "cell_type": "code",
   "execution_count": 27,
   "metadata": {},
   "outputs": [
    {
     "name": "stdout",
     "output_type": "stream",
     "text": [
      "<class 'pandas.core.frame.DataFrame'>\n",
      "Int64Index: 63622 entries, 10 to 417131\n",
      "Data columns (total 44 columns):\n",
      " #   Column              Non-Null Count  Dtype  \n",
      "---  ------              --------------  -----  \n",
      " 0   result              63622 non-null  int64  \n",
      " 1   top_dtpm            63622 non-null  float64\n",
      " 2   jng_ka              63423 non-null  float64\n",
      " 3   mid_dpm             63622 non-null  float64\n",
      " 4   bot_dpm             63622 non-null  float64\n",
      " 5   sup_apg             63622 non-null  float64\n",
      " 6   kills               63622 non-null  int64  \n",
      " 7   deaths              63622 non-null  int64  \n",
      " 8   assists             63622 non-null  int64  \n",
      " 9   firstblood          63600 non-null  float64\n",
      " 10  team kpm            63622 non-null  float64\n",
      " 11  ckpm                63622 non-null  float64\n",
      " 12  firstdragon         63614 non-null  float64\n",
      " 13  dragons             63606 non-null  float64\n",
      " 14  elders              63606 non-null  float64\n",
      " 15  firstherald         63622 non-null  float64\n",
      " 16  heralds             60466 non-null  float64\n",
      " 17  firstbaron          63186 non-null  float64\n",
      " 18  barons              63622 non-null  float64\n",
      " 19  firsttower          63600 non-null  float64\n",
      " 20  towers              63622 non-null  float64\n",
      " 21  firsttothreetowers  63622 non-null  float64\n",
      " 22  inhibitors          63510 non-null  float64\n",
      " 23  dpm                 63600 non-null  float64\n",
      " 24  wpm                 63600 non-null  float64\n",
      " 25  totalgold           63622 non-null  int64  \n",
      " 26  goldat10            63622 non-null  float64\n",
      " 27  xpat10              63622 non-null  float64\n",
      " 28  csat10              63622 non-null  float64\n",
      " 29  golddiffat10        63622 non-null  float64\n",
      " 30  xpdiffat10          63622 non-null  float64\n",
      " 31  csdiffat10          63622 non-null  float64\n",
      " 32  killsat10           63622 non-null  float64\n",
      " 33  assistsat10         63622 non-null  float64\n",
      " 34  deathsat10          63622 non-null  float64\n",
      " 35  goldat15            63620 non-null  float64\n",
      " 36  xpat15              63620 non-null  float64\n",
      " 37  csat15              63620 non-null  float64\n",
      " 38  golddiffat15        63620 non-null  float64\n",
      " 39  xpdiffat15          63620 non-null  float64\n",
      " 40  csdiffat15          63620 non-null  float64\n",
      " 41  killsat15           63620 non-null  float64\n",
      " 42  assistsat15         63620 non-null  float64\n",
      " 43  deathsat15          63620 non-null  float64\n",
      "dtypes: float64(39), int64(5)\n",
      "memory usage: 21.8 MB\n"
     ]
    }
   ],
   "source": [
    "data.info()"
   ]
  },
  {
   "cell_type": "code",
   "execution_count": 28,
   "metadata": {},
   "outputs": [
    {
     "data": {
      "text/plain": [
       "4.139120436907158"
      ]
     },
     "execution_count": 28,
     "metadata": {},
     "output_type": "execute_result"
    }
   ],
   "source": [
    "(62622-60030)/62622*100"
   ]
  },
  {
   "attachments": {},
   "cell_type": "markdown",
   "metadata": {},
   "source": [
    "##### 결측값 제거"
   ]
  },
  {
   "cell_type": "code",
   "execution_count": 9,
   "metadata": {},
   "outputs": [
    {
     "name": "stdout",
     "output_type": "stream",
     "text": [
      "<class 'pandas.core.frame.DataFrame'>\n",
      "Int64Index: 60030 entries, 10 to 417131\n",
      "Data columns (total 44 columns):\n",
      " #   Column              Non-Null Count  Dtype  \n",
      "---  ------              --------------  -----  \n",
      " 0   result              60030 non-null  int64  \n",
      " 1   top_dtpm            60030 non-null  float64\n",
      " 2   jng_ka              60030 non-null  float64\n",
      " 3   mid_dpm             60030 non-null  float64\n",
      " 4   bot_dpm             60030 non-null  float64\n",
      " 5   sup_apg             60030 non-null  float64\n",
      " 6   kills               60030 non-null  int64  \n",
      " 7   deaths              60030 non-null  int64  \n",
      " 8   assists             60030 non-null  int64  \n",
      " 9   firstblood          60030 non-null  float64\n",
      " 10  team kpm            60030 non-null  float64\n",
      " 11  ckpm                60030 non-null  float64\n",
      " 12  firstdragon         60030 non-null  float64\n",
      " 13  dragons             60030 non-null  float64\n",
      " 14  elders              60030 non-null  float64\n",
      " 15  firstherald         60030 non-null  float64\n",
      " 16  heralds             60030 non-null  float64\n",
      " 17  firstbaron          60030 non-null  float64\n",
      " 18  barons              60030 non-null  float64\n",
      " 19  firsttower          60030 non-null  float64\n",
      " 20  towers              60030 non-null  float64\n",
      " 21  firsttothreetowers  60030 non-null  float64\n",
      " 22  inhibitors          60030 non-null  float64\n",
      " 23  dpm                 60030 non-null  float64\n",
      " 24  wpm                 60030 non-null  float64\n",
      " 25  totalgold           60030 non-null  int64  \n",
      " 26  goldat10            60030 non-null  float64\n",
      " 27  xpat10              60030 non-null  float64\n",
      " 28  csat10              60030 non-null  float64\n",
      " 29  golddiffat10        60030 non-null  float64\n",
      " 30  xpdiffat10          60030 non-null  float64\n",
      " 31  csdiffat10          60030 non-null  float64\n",
      " 32  killsat10           60030 non-null  float64\n",
      " 33  assistsat10         60030 non-null  float64\n",
      " 34  deathsat10          60030 non-null  float64\n",
      " 35  goldat15            60030 non-null  float64\n",
      " 36  xpat15              60030 non-null  float64\n",
      " 37  csat15              60030 non-null  float64\n",
      " 38  golddiffat15        60030 non-null  float64\n",
      " 39  xpdiffat15          60030 non-null  float64\n",
      " 40  csdiffat15          60030 non-null  float64\n",
      " 41  killsat15           60030 non-null  float64\n",
      " 42  assistsat15         60030 non-null  float64\n",
      " 43  deathsat15          60030 non-null  float64\n",
      "dtypes: float64(39), int64(5)\n",
      "memory usage: 20.6 MB\n"
     ]
    }
   ],
   "source": [
    "na_droped_data = data.dropna()\n",
    "na_droped_data.info()"
   ]
  },
  {
   "cell_type": "code",
   "execution_count": 30,
   "metadata": {},
   "outputs": [
    {
     "data": {
      "text/plain": [
       "array([[<AxesSubplot:title={'center':'result'}>,\n",
       "        <AxesSubplot:title={'center':'top_dtpm'}>,\n",
       "        <AxesSubplot:title={'center':'jng_ka'}>,\n",
       "        <AxesSubplot:title={'center':'mid_dpm'}>,\n",
       "        <AxesSubplot:title={'center':'bot_dpm'}>,\n",
       "        <AxesSubplot:title={'center':'sup_apg'}>,\n",
       "        <AxesSubplot:title={'center':'kills'}>],\n",
       "       [<AxesSubplot:title={'center':'deaths'}>,\n",
       "        <AxesSubplot:title={'center':'assists'}>,\n",
       "        <AxesSubplot:title={'center':'firstblood'}>,\n",
       "        <AxesSubplot:title={'center':'team kpm'}>,\n",
       "        <AxesSubplot:title={'center':'ckpm'}>,\n",
       "        <AxesSubplot:title={'center':'firstdragon'}>,\n",
       "        <AxesSubplot:title={'center':'dragons'}>],\n",
       "       [<AxesSubplot:title={'center':'elders'}>,\n",
       "        <AxesSubplot:title={'center':'firstherald'}>,\n",
       "        <AxesSubplot:title={'center':'heralds'}>,\n",
       "        <AxesSubplot:title={'center':'firstbaron'}>,\n",
       "        <AxesSubplot:title={'center':'barons'}>,\n",
       "        <AxesSubplot:title={'center':'firsttower'}>,\n",
       "        <AxesSubplot:title={'center':'towers'}>],\n",
       "       [<AxesSubplot:title={'center':'firsttothreetowers'}>,\n",
       "        <AxesSubplot:title={'center':'inhibitors'}>,\n",
       "        <AxesSubplot:title={'center':'dpm'}>,\n",
       "        <AxesSubplot:title={'center':'wpm'}>,\n",
       "        <AxesSubplot:title={'center':'totalgold'}>,\n",
       "        <AxesSubplot:title={'center':'goldat10'}>,\n",
       "        <AxesSubplot:title={'center':'xpat10'}>],\n",
       "       [<AxesSubplot:title={'center':'csat10'}>,\n",
       "        <AxesSubplot:title={'center':'golddiffat10'}>,\n",
       "        <AxesSubplot:title={'center':'xpdiffat10'}>,\n",
       "        <AxesSubplot:title={'center':'csdiffat10'}>,\n",
       "        <AxesSubplot:title={'center':'killsat10'}>,\n",
       "        <AxesSubplot:title={'center':'assistsat10'}>,\n",
       "        <AxesSubplot:title={'center':'deathsat10'}>],\n",
       "       [<AxesSubplot:title={'center':'goldat15'}>,\n",
       "        <AxesSubplot:title={'center':'xpat15'}>,\n",
       "        <AxesSubplot:title={'center':'csat15'}>,\n",
       "        <AxesSubplot:title={'center':'golddiffat15'}>,\n",
       "        <AxesSubplot:title={'center':'xpdiffat15'}>,\n",
       "        <AxesSubplot:title={'center':'csdiffat15'}>,\n",
       "        <AxesSubplot:title={'center':'killsat15'}>],\n",
       "       [<AxesSubplot:title={'center':'assistsat15'}>,\n",
       "        <AxesSubplot:title={'center':'deathsat15'}>, <AxesSubplot:>,\n",
       "        <AxesSubplot:>, <AxesSubplot:>, <AxesSubplot:>, <AxesSubplot:>]],\n",
       "      dtype=object)"
      ]
     },
     "execution_count": 30,
     "metadata": {},
     "output_type": "execute_result"
    },
    {
     "data": {
      "image/png": "[encoded data removed]",
      "text/plain": [
       "<Figure size 1440x1080 with 49 Axes>"
      ]
     },
     "metadata": {
      "needs_background": "light"
     },
     "output_type": "display_data"
    }
   ],
   "source": [
    "na_droped_data.hist(bins=50, figsize=(20,15))"
   ]
  },
  {
   "cell_type": "code",
   "execution_count": 161,
   "metadata": {},
   "outputs": [
    {
     "data": {
      "text/html": [
       "<div>\n",
       "<style scoped>\n",
       "    .dataframe tbody tr th:only-of-type {\n",
       "        vertical-align: middle;\n",
       "    }\n",
       "\n",
       "    .dataframe tbody tr th {\n",
       "        vertical-align: top;\n",
       "    }\n",
       "\n",
       "    .dataframe thead th {\n",
       "        text-align: right;\n",
       "    }\n",
       "</style>\n",
       "<table border=\"1\" class=\"dataframe\">\n",
       "  <thead>\n",
       "    <tr style=\"text-align: right;\">\n",
       "      <th></th>\n",
       "      <th>result</th>\n",
       "      <th>top_dtpm</th>\n",
       "      <th>jng_ka</th>\n",
       "      <th>mid_dpm</th>\n",
       "      <th>bot_dpm</th>\n",
       "      <th>sup_apg</th>\n",
       "      <th>kills</th>\n",
       "      <th>deaths</th>\n",
       "      <th>assists</th>\n",
       "      <th>firstblood</th>\n",
       "      <th>...</th>\n",
       "      <th>deathsat10</th>\n",
       "      <th>goldat15</th>\n",
       "      <th>xpat15</th>\n",
       "      <th>csat15</th>\n",
       "      <th>golddiffat15</th>\n",
       "      <th>xpdiffat15</th>\n",
       "      <th>csdiffat15</th>\n",
       "      <th>killsat15</th>\n",
       "      <th>assistsat15</th>\n",
       "      <th>deathsat15</th>\n",
       "    </tr>\n",
       "  </thead>\n",
       "  <tbody>\n",
       "    <tr>\n",
       "      <th>10</th>\n",
       "      <td>1</td>\n",
       "      <td>881.6757</td>\n",
       "      <td>76.470588</td>\n",
       "      <td>470.1622</td>\n",
       "      <td>795.0811</td>\n",
       "      <td>3.0</td>\n",
       "      <td>17</td>\n",
       "      <td>11</td>\n",
       "      <td>33</td>\n",
       "      <td>0.0</td>\n",
       "      <td>...</td>\n",
       "      <td>0.0</td>\n",
       "      <td>21953.0</td>\n",
       "      <td>27219.0</td>\n",
       "      <td>507.0</td>\n",
       "      <td>-825.0</td>\n",
       "      <td>-1665.0</td>\n",
       "      <td>-12.0</td>\n",
       "      <td>0.0</td>\n",
       "      <td>0.0</td>\n",
       "      <td>1.0</td>\n",
       "    </tr>\n",
       "    <tr>\n",
       "      <th>11</th>\n",
       "      <td>0</td>\n",
       "      <td>939.6756</td>\n",
       "      <td>72.727273</td>\n",
       "      <td>299.3514</td>\n",
       "      <td>467.9189</td>\n",
       "      <td>10.0</td>\n",
       "      <td>11</td>\n",
       "      <td>17</td>\n",
       "      <td>25</td>\n",
       "      <td>1.0</td>\n",
       "      <td>...</td>\n",
       "      <td>0.0</td>\n",
       "      <td>22778.0</td>\n",
       "      <td>28884.0</td>\n",
       "      <td>519.0</td>\n",
       "      <td>825.0</td>\n",
       "      <td>1665.0</td>\n",
       "      <td>12.0</td>\n",
       "      <td>1.0</td>\n",
       "      <td>2.0</td>\n",
       "      <td>0.0</td>\n",
       "    </tr>\n",
       "    <tr>\n",
       "      <th>22</th>\n",
       "      <td>0</td>\n",
       "      <td>1138.8415</td>\n",
       "      <td>100.000000</td>\n",
       "      <td>584.8855</td>\n",
       "      <td>506.0799</td>\n",
       "      <td>3.0</td>\n",
       "      <td>5</td>\n",
       "      <td>21</td>\n",
       "      <td>16</td>\n",
       "      <td>0.0</td>\n",
       "      <td>...</td>\n",
       "      <td>3.0</td>\n",
       "      <td>21714.0</td>\n",
       "      <td>26869.0</td>\n",
       "      <td>501.0</td>\n",
       "      <td>-5484.0</td>\n",
       "      <td>-4833.0</td>\n",
       "      <td>-56.0</td>\n",
       "      <td>0.0</td>\n",
       "      <td>0.0</td>\n",
       "      <td>6.0</td>\n",
       "    </tr>\n",
       "    <tr>\n",
       "      <th>23</th>\n",
       "      <td>1</td>\n",
       "      <td>1476.5604</td>\n",
       "      <td>71.428571</td>\n",
       "      <td>437.6740</td>\n",
       "      <td>429.0795</td>\n",
       "      <td>10.0</td>\n",
       "      <td>21</td>\n",
       "      <td>5</td>\n",
       "      <td>41</td>\n",
       "      <td>1.0</td>\n",
       "      <td>...</td>\n",
       "      <td>0.0</td>\n",
       "      <td>27198.0</td>\n",
       "      <td>31702.0</td>\n",
       "      <td>557.0</td>\n",
       "      <td>5484.0</td>\n",
       "      <td>4833.0</td>\n",
       "      <td>56.0</td>\n",
       "      <td>6.0</td>\n",
       "      <td>7.0</td>\n",
       "      <td>0.0</td>\n",
       "    </tr>\n",
       "    <tr>\n",
       "      <th>34</th>\n",
       "      <td>1</td>\n",
       "      <td>638.9597</td>\n",
       "      <td>38.095238</td>\n",
       "      <td>399.1350</td>\n",
       "      <td>752.3320</td>\n",
       "      <td>13.0</td>\n",
       "      <td>21</td>\n",
       "      <td>4</td>\n",
       "      <td>34</td>\n",
       "      <td>0.0</td>\n",
       "      <td>...</td>\n",
       "      <td>0.0</td>\n",
       "      <td>24882.0</td>\n",
       "      <td>30349.0</td>\n",
       "      <td>584.0</td>\n",
       "      <td>2566.0</td>\n",
       "      <td>2097.0</td>\n",
       "      <td>53.0</td>\n",
       "      <td>0.0</td>\n",
       "      <td>0.0</td>\n",
       "      <td>0.0</td>\n",
       "    </tr>\n",
       "  </tbody>\n",
       "</table>\n",
       "<p>5 rows × 44 columns</p>\n",
       "</div>"
      ],
      "text/plain": [
       "    result   top_dtpm      jng_ka   mid_dpm   bot_dpm  sup_apg  kills  deaths  \\\n",
       "10       1   881.6757   76.470588  470.1622  795.0811      3.0     17      11   \n",
       "11       0   939.6756   72.727273  299.3514  467.9189     10.0     11      17   \n",
       "22       0  1138.8415  100.000000  584.8855  506.0799      3.0      5      21   \n",
       "23       1  1476.5604   71.428571  437.6740  429.0795     10.0     21       5   \n",
       "34       1   638.9597   38.095238  399.1350  752.3320     13.0     21       4   \n",
       "\n",
       "    assists  firstblood  ...  deathsat10  goldat15   xpat15  csat15  \\\n",
       "10       33         0.0  ...         0.0   21953.0  27219.0   507.0   \n",
       "11       25         1.0  ...         0.0   22778.0  28884.0   519.0   \n",
       "22       16         0.0  ...         3.0   21714.0  26869.0   501.0   \n",
       "23       41         1.0  ...         0.0   27198.0  31702.0   557.0   \n",
       "34       34         0.0  ...         0.0   24882.0  30349.0   584.0   \n",
       "\n",
       "    golddiffat15  xpdiffat15  csdiffat15  killsat15  assistsat15  deathsat15  \n",
       "10        -825.0     -1665.0       -12.0        0.0          0.0         1.0  \n",
       "11         825.0      1665.0        12.0        1.0          2.0         0.0  \n",
       "22       -5484.0     -4833.0       -56.0        0.0          0.0         6.0  \n",
       "23        5484.0      4833.0        56.0        6.0          7.0         0.0  \n",
       "34        2566.0      2097.0        53.0        0.0          0.0         0.0  \n",
       "\n",
       "[5 rows x 44 columns]"
      ]
     },
     "execution_count": 161,
     "metadata": {},
     "output_type": "execute_result"
    }
   ],
   "source": [
    "na_droped_data.head()"
   ]
  },
  {
   "attachments": {},
   "cell_type": "markdown",
   "metadata": {},
   "source": [
    "### 스케일링 및 train, test 분리"
   ]
  },
  {
   "cell_type": "code",
   "execution_count": 50,
   "metadata": {},
   "outputs": [],
   "source": [
    "from sklearn.model_selection import train_test_split\n",
    "\n",
    "X = na_droped_data.iloc[:,1:]\n",
    "y = na_droped_data['result']\n",
    "\n",
    "X_train, X_test, y_train, y_test = train_test_split(X, y, test_size=0.2, random_state=42)"
   ]
  },
  {
   "cell_type": "code",
   "execution_count": 38,
   "metadata": {},
   "outputs": [
    {
     "data": {
      "text/plain": [
       "Index(['sup_apg', 'kills', 'deaths', 'assists', 'team kpm', 'dragons',\n",
       "       'firstbaron', 'barons', 'towers', 'firsttothreetowers', 'inhibitors',\n",
       "       'golddiffat10', 'goldat15', 'golddiffat15', 'xpdiffat15'],\n",
       "      dtype='object')"
      ]
     },
     "execution_count": 38,
     "metadata": {},
     "output_type": "execute_result"
    }
   ],
   "source": [
    "from sklearn.feature_selection import f_classif, SelectKBest\n",
    "\n",
    "# 특성 선택을 위한 SelectKBest를 진행 - K는 특성 수\n",
    "selector = SelectKBest(score_func = f_classif, k = 15)\n",
    "X_train_selected = selector.fit_transform(X_train, y_train)\n",
    "X_test_selected = selector.transform(X_test)\n",
    "\n",
    "# 선택된 column의 이름을 확인하는 작업\n",
    "all_names = X_train.columns\n",
    "selected_mask = selector.get_support()\n",
    "selected_name = all_names[selected_mask]\n",
    "selected_name"
   ]
  },
  {
   "cell_type": "code",
   "execution_count": 41,
   "metadata": {},
   "outputs": [
    {
     "data": {
      "text/html": [
       "<div>\n",
       "<style scoped>\n",
       "    .dataframe tbody tr th:only-of-type {\n",
       "        vertical-align: middle;\n",
       "    }\n",
       "\n",
       "    .dataframe tbody tr th {\n",
       "        vertical-align: top;\n",
       "    }\n",
       "\n",
       "    .dataframe thead th {\n",
       "        text-align: right;\n",
       "    }\n",
       "</style>\n",
       "<table border=\"1\" class=\"dataframe\">\n",
       "  <thead>\n",
       "    <tr style=\"text-align: right;\">\n",
       "      <th></th>\n",
       "      <th>sup_apg</th>\n",
       "      <th>kills</th>\n",
       "      <th>deaths</th>\n",
       "      <th>assists</th>\n",
       "      <th>team kpm</th>\n",
       "      <th>dragons</th>\n",
       "      <th>firstbaron</th>\n",
       "      <th>barons</th>\n",
       "      <th>towers</th>\n",
       "      <th>firsttothreetowers</th>\n",
       "      <th>inhibitors</th>\n",
       "      <th>golddiffat10</th>\n",
       "      <th>goldat15</th>\n",
       "      <th>golddiffat15</th>\n",
       "      <th>xpdiffat15</th>\n",
       "    </tr>\n",
       "  </thead>\n",
       "  <tbody>\n",
       "    <tr>\n",
       "      <th>330107</th>\n",
       "      <td>16.0</td>\n",
       "      <td>24</td>\n",
       "      <td>21</td>\n",
       "      <td>56</td>\n",
       "      <td>0.6847</td>\n",
       "      <td>4.0</td>\n",
       "      <td>0.0</td>\n",
       "      <td>1.0</td>\n",
       "      <td>9.0</td>\n",
       "      <td>1.0</td>\n",
       "      <td>1.0</td>\n",
       "      <td>-558.0</td>\n",
       "      <td>22515.0</td>\n",
       "      <td>-2613.0</td>\n",
       "      <td>-1899.0</td>\n",
       "    </tr>\n",
       "    <tr>\n",
       "      <th>317003</th>\n",
       "      <td>10.0</td>\n",
       "      <td>23</td>\n",
       "      <td>19</td>\n",
       "      <td>61</td>\n",
       "      <td>0.6296</td>\n",
       "      <td>4.0</td>\n",
       "      <td>1.0</td>\n",
       "      <td>2.0</td>\n",
       "      <td>10.0</td>\n",
       "      <td>1.0</td>\n",
       "      <td>2.0</td>\n",
       "      <td>1085.0</td>\n",
       "      <td>26430.0</td>\n",
       "      <td>1491.0</td>\n",
       "      <td>-3.0</td>\n",
       "    </tr>\n",
       "    <tr>\n",
       "      <th>254770</th>\n",
       "      <td>10.0</td>\n",
       "      <td>26</td>\n",
       "      <td>8</td>\n",
       "      <td>44</td>\n",
       "      <td>1.2093</td>\n",
       "      <td>2.0</td>\n",
       "      <td>0.0</td>\n",
       "      <td>0.0</td>\n",
       "      <td>9.0</td>\n",
       "      <td>1.0</td>\n",
       "      <td>1.0</td>\n",
       "      <td>2745.0</td>\n",
       "      <td>29328.0</td>\n",
       "      <td>5175.0</td>\n",
       "      <td>1572.0</td>\n",
       "    </tr>\n",
       "    <tr>\n",
       "      <th>410722</th>\n",
       "      <td>5.0</td>\n",
       "      <td>7</td>\n",
       "      <td>29</td>\n",
       "      <td>13</td>\n",
       "      <td>0.2670</td>\n",
       "      <td>1.0</td>\n",
       "      <td>0.0</td>\n",
       "      <td>0.0</td>\n",
       "      <td>3.0</td>\n",
       "      <td>0.0</td>\n",
       "      <td>0.0</td>\n",
       "      <td>-384.0</td>\n",
       "      <td>25454.0</td>\n",
       "      <td>-166.0</td>\n",
       "      <td>872.0</td>\n",
       "    </tr>\n",
       "    <tr>\n",
       "      <th>157415</th>\n",
       "      <td>4.0</td>\n",
       "      <td>8</td>\n",
       "      <td>25</td>\n",
       "      <td>19</td>\n",
       "      <td>0.2839</td>\n",
       "      <td>0.0</td>\n",
       "      <td>0.0</td>\n",
       "      <td>0.0</td>\n",
       "      <td>2.0</td>\n",
       "      <td>0.0</td>\n",
       "      <td>0.0</td>\n",
       "      <td>-2550.0</td>\n",
       "      <td>23719.0</td>\n",
       "      <td>-3923.0</td>\n",
       "      <td>-2885.0</td>\n",
       "    </tr>\n",
       "  </tbody>\n",
       "</table>\n",
       "</div>"
      ],
      "text/plain": [
       "        sup_apg  kills  deaths  assists  team kpm  dragons  firstbaron  \\\n",
       "330107     16.0     24      21       56    0.6847      4.0         0.0   \n",
       "317003     10.0     23      19       61    0.6296      4.0         1.0   \n",
       "254770     10.0     26       8       44    1.2093      2.0         0.0   \n",
       "410722      5.0      7      29       13    0.2670      1.0         0.0   \n",
       "157415      4.0      8      25       19    0.2839      0.0         0.0   \n",
       "\n",
       "        barons  towers  firsttothreetowers  inhibitors  golddiffat10  \\\n",
       "330107     1.0     9.0                 1.0         1.0        -558.0   \n",
       "317003     2.0    10.0                 1.0         2.0        1085.0   \n",
       "254770     0.0     9.0                 1.0         1.0        2745.0   \n",
       "410722     0.0     3.0                 0.0         0.0        -384.0   \n",
       "157415     0.0     2.0                 0.0         0.0       -2550.0   \n",
       "\n",
       "        goldat15  golddiffat15  xpdiffat15  \n",
       "330107   22515.0       -2613.0     -1899.0  \n",
       "317003   26430.0        1491.0        -3.0  \n",
       "254770   29328.0        5175.0      1572.0  \n",
       "410722   25454.0        -166.0       872.0  \n",
       "157415   23719.0       -3923.0     -2885.0  "
      ]
     },
     "execution_count": 41,
     "metadata": {},
     "output_type": "execute_result"
    }
   ],
   "source": [
    "X_train[selected_name].head()"
   ]
  },
  {
   "attachments": {},
   "cell_type": "markdown",
   "metadata": {},
   "source": [
    "### 로지스틱 회귀"
   ]
  },
  {
   "cell_type": "code",
   "execution_count": 42,
   "metadata": {},
   "outputs": [
    {
     "name": "stderr",
     "output_type": "stream",
     "text": [
      "c:\\Users\\rladb\\anaconda3\\lib\\site-packages\\sklearn\\linear_model\\_logistic.py:814: ConvergenceWarning: lbfgs failed to converge (status=1):\n",
      "STOP: TOTAL NO. of ITERATIONS REACHED LIMIT.\n",
      "\n",
      "Increase the number of iterations (max_iter) or scale the data as shown in:\n",
      "    https://scikit-learn.org/stable/modules/preprocessing.html\n",
      "Please also refer to the documentation for alternative solver options:\n",
      "    https://scikit-learn.org/stable/modules/linear_model.html#logistic-regression\n",
      "  n_iter_i = _check_optimize_result(\n"
     ]
    },
    {
     "data": {
      "text/plain": [
       "0.9778444111277694"
      ]
     },
     "execution_count": 42,
     "metadata": {},
     "output_type": "execute_result"
    }
   ],
   "source": [
    "from sklearn.linear_model import LogisticRegression  \n",
    "  \n",
    "log_clf = LogisticRegression()  \n",
    "\n",
    "log_clf.fit(X_train[selected_name], y_train)\n",
    "\n",
    "from sklearn.metrics import accuracy_score\n",
    "accuracy_score(y_train, log_clf.predict(X_train[selected_name]))"
   ]
  },
  {
   "cell_type": "code",
   "execution_count": 483,
   "metadata": {},
   "outputs": [],
   "source": [
    "from sklearn.preprocessing import StandardScaler  \n",
    "  \n",
    "scaler = StandardScaler()  \n",
    "\n",
    "scaled_X = scaler.fit_transform(X)  \n",
    "\n",
    "X_train, X_test, y_train, y_test = train_test_split(scaled_X, y, test_size=0.2, random_state=42)"
   ]
  },
  {
   "cell_type": "code",
   "execution_count": 43,
   "metadata": {},
   "outputs": [
    {
     "name": "stderr",
     "output_type": "stream",
     "text": [
      "c:\\Users\\rladb\\anaconda3\\lib\\site-packages\\sklearn\\base.py:450: UserWarning: X does not have valid feature names, but LogisticRegression was fitted with feature names\n",
      "  warnings.warn(\n"
     ]
    },
    {
     "data": {
      "text/plain": [
       "0.9715142428785607"
      ]
     },
     "execution_count": 43,
     "metadata": {},
     "output_type": "execute_result"
    }
   ],
   "source": [
    "from sklearn.preprocessing import StandardScaler  \n",
    "  \n",
    "scaler = StandardScaler()  \n",
    "\n",
    "scaled_X_train = scaler.fit_transform(X_train[selected_name])  \n",
    "\n",
    "log_clf2 = LogisticRegression()  \n",
    "\n",
    "log_clf2.fit(scaled_X_train, y_train)\n",
    "\n",
    "from sklearn.metrics import accuracy_score\n",
    "accuracy_score(y_train, log_clf.predict(scaled_X_train))"
   ]
  },
  {
   "cell_type": "code",
   "execution_count": 453,
   "metadata": {},
   "outputs": [
    {
     "name": "stderr",
     "output_type": "stream",
     "text": [
      "c:\\Users\\rladb\\anaconda3\\lib\\site-packages\\sklearn\\linear_model\\_logistic.py:814: ConvergenceWarning: lbfgs failed to converge (status=1):\n",
      "STOP: TOTAL NO. of ITERATIONS REACHED LIMIT.\n",
      "\n",
      "Increase the number of iterations (max_iter) or scale the data as shown in:\n",
      "    https://scikit-learn.org/stable/modules/preprocessing.html\n",
      "Please also refer to the documentation for alternative solver options:\n",
      "    https://scikit-learn.org/stable/modules/linear_model.html#logistic-regression\n",
      "  n_iter_i = _check_optimize_result(\n"
     ]
    },
    {
     "data": {
      "text/plain": [
       "0.9831542562052307"
      ]
     },
     "execution_count": 453,
     "metadata": {},
     "output_type": "execute_result"
    }
   ],
   "source": [
    "from sklearn.linear_model import LogisticRegression  \n",
    "  \n",
    "log_clf = LogisticRegression()  \n",
    "\n",
    "log_clf.fit(X_train, y_train)\n",
    "\n",
    "from sklearn.metrics import accuracy_score\n",
    "accuracy_score(y_train, log_clf.predict(X_train))"
   ]
  },
  {
   "attachments": {},
   "cell_type": "markdown",
   "metadata": {},
   "source": [
    "#### 다중공선성"
   ]
  },
  {
   "cell_type": "code",
   "execution_count": 32,
   "metadata": {},
   "outputs": [],
   "source": [
    "X = na_droped_data.iloc[:,1:]"
   ]
  },
  {
   "cell_type": "code",
   "execution_count": 33,
   "metadata": {},
   "outputs": [
    {
     "data": {
      "text/html": [
       "<div>\n",
       "<style scoped>\n",
       "    .dataframe tbody tr th:only-of-type {\n",
       "        vertical-align: middle;\n",
       "    }\n",
       "\n",
       "    .dataframe tbody tr th {\n",
       "        vertical-align: top;\n",
       "    }\n",
       "\n",
       "    .dataframe thead th {\n",
       "        text-align: right;\n",
       "    }\n",
       "</style>\n",
       "<table border=\"1\" class=\"dataframe\">\n",
       "  <thead>\n",
       "    <tr style=\"text-align: right;\">\n",
       "      <th></th>\n",
       "      <th>VIF Factor</th>\n",
       "      <th>features</th>\n",
       "    </tr>\n",
       "  </thead>\n",
       "  <tbody>\n",
       "    <tr>\n",
       "      <th>0</th>\n",
       "      <td>33.700991</td>\n",
       "      <td>top_dtpm</td>\n",
       "    </tr>\n",
       "    <tr>\n",
       "      <th>1</th>\n",
       "      <td>20.784536</td>\n",
       "      <td>jng_ka</td>\n",
       "    </tr>\n",
       "    <tr>\n",
       "      <th>2</th>\n",
       "      <td>18.269095</td>\n",
       "      <td>mid_dpm</td>\n",
       "    </tr>\n",
       "    <tr>\n",
       "      <th>3</th>\n",
       "      <td>20.114975</td>\n",
       "      <td>bot_dpm</td>\n",
       "    </tr>\n",
       "    <tr>\n",
       "      <th>4</th>\n",
       "      <td>27.967494</td>\n",
       "      <td>sup_apg</td>\n",
       "    </tr>\n",
       "    <tr>\n",
       "      <th>5</th>\n",
       "      <td>207.860979</td>\n",
       "      <td>kills</td>\n",
       "    </tr>\n",
       "    <tr>\n",
       "      <th>6</th>\n",
       "      <td>106.656761</td>\n",
       "      <td>deaths</td>\n",
       "    </tr>\n",
       "    <tr>\n",
       "      <th>7</th>\n",
       "      <td>82.533579</td>\n",
       "      <td>assists</td>\n",
       "    </tr>\n",
       "    <tr>\n",
       "      <th>8</th>\n",
       "      <td>2.822653</td>\n",
       "      <td>firstblood</td>\n",
       "    </tr>\n",
       "    <tr>\n",
       "      <th>9</th>\n",
       "      <td>269.453074</td>\n",
       "      <td>team kpm</td>\n",
       "    </tr>\n",
       "    <tr>\n",
       "      <th>10</th>\n",
       "      <td>330.364721</td>\n",
       "      <td>ckpm</td>\n",
       "    </tr>\n",
       "    <tr>\n",
       "      <th>11</th>\n",
       "      <td>2.922433</td>\n",
       "      <td>firstdragon</td>\n",
       "    </tr>\n",
       "    <tr>\n",
       "      <th>12</th>\n",
       "      <td>10.712479</td>\n",
       "      <td>dragons</td>\n",
       "    </tr>\n",
       "    <tr>\n",
       "      <th>13</th>\n",
       "      <td>1.293222</td>\n",
       "      <td>elders</td>\n",
       "    </tr>\n",
       "    <tr>\n",
       "      <th>14</th>\n",
       "      <td>6.796837</td>\n",
       "      <td>firstherald</td>\n",
       "    </tr>\n",
       "    <tr>\n",
       "      <th>15</th>\n",
       "      <td>8.607397</td>\n",
       "      <td>heralds</td>\n",
       "    </tr>\n",
       "    <tr>\n",
       "      <th>16</th>\n",
       "      <td>7.014972</td>\n",
       "      <td>firstbaron</td>\n",
       "    </tr>\n",
       "    <tr>\n",
       "      <th>17</th>\n",
       "      <td>8.016948</td>\n",
       "      <td>barons</td>\n",
       "    </tr>\n",
       "    <tr>\n",
       "      <th>18</th>\n",
       "      <td>4.346584</td>\n",
       "      <td>firsttower</td>\n",
       "    </tr>\n",
       "    <tr>\n",
       "      <th>19</th>\n",
       "      <td>38.468005</td>\n",
       "      <td>towers</td>\n",
       "    </tr>\n",
       "    <tr>\n",
       "      <th>20</th>\n",
       "      <td>4.737173</td>\n",
       "      <td>firsttothreetowers</td>\n",
       "    </tr>\n",
       "    <tr>\n",
       "      <th>21</th>\n",
       "      <td>6.539711</td>\n",
       "      <td>inhibitors</td>\n",
       "    </tr>\n",
       "    <tr>\n",
       "      <th>22</th>\n",
       "      <td>138.162349</td>\n",
       "      <td>dpm</td>\n",
       "    </tr>\n",
       "    <tr>\n",
       "      <th>23</th>\n",
       "      <td>42.259662</td>\n",
       "      <td>wpm</td>\n",
       "    </tr>\n",
       "    <tr>\n",
       "      <th>24</th>\n",
       "      <td>238.517767</td>\n",
       "      <td>totalgold</td>\n",
       "    </tr>\n",
       "    <tr>\n",
       "      <th>25</th>\n",
       "      <td>3689.360134</td>\n",
       "      <td>goldat10</td>\n",
       "    </tr>\n",
       "    <tr>\n",
       "      <th>26</th>\n",
       "      <td>6790.102201</td>\n",
       "      <td>xpat10</td>\n",
       "    </tr>\n",
       "    <tr>\n",
       "      <th>27</th>\n",
       "      <td>5271.123579</td>\n",
       "      <td>csat10</td>\n",
       "    </tr>\n",
       "    <tr>\n",
       "      <th>28</th>\n",
       "      <td>24.043272</td>\n",
       "      <td>golddiffat10</td>\n",
       "    </tr>\n",
       "    <tr>\n",
       "      <th>29</th>\n",
       "      <td>14.868699</td>\n",
       "      <td>xpdiffat10</td>\n",
       "    </tr>\n",
       "    <tr>\n",
       "      <th>30</th>\n",
       "      <td>23.310425</td>\n",
       "      <td>csdiffat10</td>\n",
       "    </tr>\n",
       "    <tr>\n",
       "      <th>31</th>\n",
       "      <td>62.998428</td>\n",
       "      <td>killsat10</td>\n",
       "    </tr>\n",
       "    <tr>\n",
       "      <th>32</th>\n",
       "      <td>18.657855</td>\n",
       "      <td>assistsat10</td>\n",
       "    </tr>\n",
       "    <tr>\n",
       "      <th>33</th>\n",
       "      <td>40.370482</td>\n",
       "      <td>deathsat10</td>\n",
       "    </tr>\n",
       "    <tr>\n",
       "      <th>34</th>\n",
       "      <td>2927.565137</td>\n",
       "      <td>goldat15</td>\n",
       "    </tr>\n",
       "    <tr>\n",
       "      <th>35</th>\n",
       "      <td>8284.271994</td>\n",
       "      <td>xpat15</td>\n",
       "    </tr>\n",
       "    <tr>\n",
       "      <th>36</th>\n",
       "      <td>6894.205324</td>\n",
       "      <td>csat15</td>\n",
       "    </tr>\n",
       "    <tr>\n",
       "      <th>37</th>\n",
       "      <td>31.694927</td>\n",
       "      <td>golddiffat15</td>\n",
       "    </tr>\n",
       "    <tr>\n",
       "      <th>38</th>\n",
       "      <td>27.955701</td>\n",
       "      <td>xpdiffat15</td>\n",
       "    </tr>\n",
       "    <tr>\n",
       "      <th>39</th>\n",
       "      <td>28.714480</td>\n",
       "      <td>csdiffat15</td>\n",
       "    </tr>\n",
       "    <tr>\n",
       "      <th>40</th>\n",
       "      <td>112.775567</td>\n",
       "      <td>killsat15</td>\n",
       "    </tr>\n",
       "    <tr>\n",
       "      <th>41</th>\n",
       "      <td>32.858531</td>\n",
       "      <td>assistsat15</td>\n",
       "    </tr>\n",
       "    <tr>\n",
       "      <th>42</th>\n",
       "      <td>61.053913</td>\n",
       "      <td>deathsat15</td>\n",
       "    </tr>\n",
       "  </tbody>\n",
       "</table>\n",
       "</div>"
      ],
      "text/plain": [
       "     VIF Factor            features\n",
       "0     33.700991            top_dtpm\n",
       "1     20.784536              jng_ka\n",
       "2     18.269095             mid_dpm\n",
       "3     20.114975             bot_dpm\n",
       "4     27.967494             sup_apg\n",
       "5    207.860979               kills\n",
       "6    106.656761              deaths\n",
       "7     82.533579             assists\n",
       "8      2.822653          firstblood\n",
       "9    269.453074            team kpm\n",
       "10   330.364721                ckpm\n",
       "11     2.922433         firstdragon\n",
       "12    10.712479             dragons\n",
       "13     1.293222              elders\n",
       "14     6.796837         firstherald\n",
       "15     8.607397             heralds\n",
       "16     7.014972          firstbaron\n",
       "17     8.016948              barons\n",
       "18     4.346584          firsttower\n",
       "19    38.468005              towers\n",
       "20     4.737173  firsttothreetowers\n",
       "21     6.539711          inhibitors\n",
       "22   138.162349                 dpm\n",
       "23    42.259662                 wpm\n",
       "24   238.517767           totalgold\n",
       "25  3689.360134            goldat10\n",
       "26  6790.102201              xpat10\n",
       "27  5271.123579              csat10\n",
       "28    24.043272        golddiffat10\n",
       "29    14.868699          xpdiffat10\n",
       "30    23.310425          csdiffat10\n",
       "31    62.998428           killsat10\n",
       "32    18.657855         assistsat10\n",
       "33    40.370482          deathsat10\n",
       "34  2927.565137            goldat15\n",
       "35  8284.271994              xpat15\n",
       "36  6894.205324              csat15\n",
       "37    31.694927        golddiffat15\n",
       "38    27.955701          xpdiffat15\n",
       "39    28.714480          csdiffat15\n",
       "40   112.775567           killsat15\n",
       "41    32.858531         assistsat15\n",
       "42    61.053913          deathsat15"
      ]
     },
     "execution_count": 33,
     "metadata": {},
     "output_type": "execute_result"
    }
   ],
   "source": [
    "from statsmodels.stats.outliers_influence import variance_inflation_factor\n",
    "\n",
    "vif = pd.DataFrame()\n",
    "vif[\"VIF Factor\"] = [variance_inflation_factor(X.values, i) for i in range(X.shape[1])]\n",
    "vif[\"features\"] = X.columns\n",
    "vif"
   ]
  },
  {
   "cell_type": "code",
   "execution_count": 34,
   "metadata": {},
   "outputs": [
    {
     "data": {
      "text/html": [
       "<div>\n",
       "<style scoped>\n",
       "    .dataframe tbody tr th:only-of-type {\n",
       "        vertical-align: middle;\n",
       "    }\n",
       "\n",
       "    .dataframe tbody tr th {\n",
       "        vertical-align: top;\n",
       "    }\n",
       "\n",
       "    .dataframe thead th {\n",
       "        text-align: right;\n",
       "    }\n",
       "</style>\n",
       "<table border=\"1\" class=\"dataframe\">\n",
       "  <thead>\n",
       "    <tr style=\"text-align: right;\">\n",
       "      <th></th>\n",
       "      <th>VIF Factor</th>\n",
       "      <th>features</th>\n",
       "    </tr>\n",
       "  </thead>\n",
       "  <tbody>\n",
       "    <tr>\n",
       "      <th>8</th>\n",
       "      <td>2.822653</td>\n",
       "      <td>firstblood</td>\n",
       "    </tr>\n",
       "    <tr>\n",
       "      <th>11</th>\n",
       "      <td>2.922433</td>\n",
       "      <td>firstdragon</td>\n",
       "    </tr>\n",
       "    <tr>\n",
       "      <th>13</th>\n",
       "      <td>1.293222</td>\n",
       "      <td>elders</td>\n",
       "    </tr>\n",
       "    <tr>\n",
       "      <th>14</th>\n",
       "      <td>6.796837</td>\n",
       "      <td>firstherald</td>\n",
       "    </tr>\n",
       "    <tr>\n",
       "      <th>15</th>\n",
       "      <td>8.607397</td>\n",
       "      <td>heralds</td>\n",
       "    </tr>\n",
       "    <tr>\n",
       "      <th>16</th>\n",
       "      <td>7.014972</td>\n",
       "      <td>firstbaron</td>\n",
       "    </tr>\n",
       "    <tr>\n",
       "      <th>17</th>\n",
       "      <td>8.016948</td>\n",
       "      <td>barons</td>\n",
       "    </tr>\n",
       "    <tr>\n",
       "      <th>18</th>\n",
       "      <td>4.346584</td>\n",
       "      <td>firsttower</td>\n",
       "    </tr>\n",
       "    <tr>\n",
       "      <th>20</th>\n",
       "      <td>4.737173</td>\n",
       "      <td>firsttothreetowers</td>\n",
       "    </tr>\n",
       "    <tr>\n",
       "      <th>21</th>\n",
       "      <td>6.539711</td>\n",
       "      <td>inhibitors</td>\n",
       "    </tr>\n",
       "  </tbody>\n",
       "</table>\n",
       "</div>"
      ],
      "text/plain": [
       "    VIF Factor            features\n",
       "8     2.822653          firstblood\n",
       "11    2.922433         firstdragon\n",
       "13    1.293222              elders\n",
       "14    6.796837         firstherald\n",
       "15    8.607397             heralds\n",
       "16    7.014972          firstbaron\n",
       "17    8.016948              barons\n",
       "18    4.346584          firsttower\n",
       "20    4.737173  firsttothreetowers\n",
       "21    6.539711          inhibitors"
      ]
     },
     "execution_count": 34,
     "metadata": {},
     "output_type": "execute_result"
    }
   ],
   "source": [
    "vif[vif[\"VIF Factor\"]<10]"
   ]
  },
  {
   "cell_type": "code",
   "execution_count": 35,
   "metadata": {},
   "outputs": [
    {
     "data": {
      "text/html": [
       "<div>\n",
       "<style scoped>\n",
       "    .dataframe tbody tr th:only-of-type {\n",
       "        vertical-align: middle;\n",
       "    }\n",
       "\n",
       "    .dataframe tbody tr th {\n",
       "        vertical-align: top;\n",
       "    }\n",
       "\n",
       "    .dataframe thead th {\n",
       "        text-align: right;\n",
       "    }\n",
       "</style>\n",
       "<table border=\"1\" class=\"dataframe\">\n",
       "  <thead>\n",
       "    <tr style=\"text-align: right;\">\n",
       "      <th></th>\n",
       "      <th>firstblood</th>\n",
       "      <th>firstdragon</th>\n",
       "      <th>elders</th>\n",
       "      <th>firstherald</th>\n",
       "      <th>heralds</th>\n",
       "      <th>firstbaron</th>\n",
       "      <th>barons</th>\n",
       "      <th>firsttower</th>\n",
       "      <th>firsttothreetowers</th>\n",
       "      <th>inhibitors</th>\n",
       "    </tr>\n",
       "  </thead>\n",
       "  <tbody>\n",
       "    <tr>\n",
       "      <th>10</th>\n",
       "      <td>0.0</td>\n",
       "      <td>0.0</td>\n",
       "      <td>0.0</td>\n",
       "      <td>1.0</td>\n",
       "      <td>1.0</td>\n",
       "      <td>1.0</td>\n",
       "      <td>1.0</td>\n",
       "      <td>0.0</td>\n",
       "      <td>0.0</td>\n",
       "      <td>1.0</td>\n",
       "    </tr>\n",
       "    <tr>\n",
       "      <th>11</th>\n",
       "      <td>1.0</td>\n",
       "      <td>1.0</td>\n",
       "      <td>0.0</td>\n",
       "      <td>0.0</td>\n",
       "      <td>1.0</td>\n",
       "      <td>0.0</td>\n",
       "      <td>0.0</td>\n",
       "      <td>1.0</td>\n",
       "      <td>1.0</td>\n",
       "      <td>0.0</td>\n",
       "    </tr>\n",
       "    <tr>\n",
       "      <th>22</th>\n",
       "      <td>0.0</td>\n",
       "      <td>0.0</td>\n",
       "      <td>0.0</td>\n",
       "      <td>0.0</td>\n",
       "      <td>0.0</td>\n",
       "      <td>0.0</td>\n",
       "      <td>0.0</td>\n",
       "      <td>0.0</td>\n",
       "      <td>0.0</td>\n",
       "      <td>0.0</td>\n",
       "    </tr>\n",
       "    <tr>\n",
       "      <th>23</th>\n",
       "      <td>1.0</td>\n",
       "      <td>1.0</td>\n",
       "      <td>0.0</td>\n",
       "      <td>1.0</td>\n",
       "      <td>2.0</td>\n",
       "      <td>1.0</td>\n",
       "      <td>2.0</td>\n",
       "      <td>1.0</td>\n",
       "      <td>1.0</td>\n",
       "      <td>1.0</td>\n",
       "    </tr>\n",
       "    <tr>\n",
       "      <th>34</th>\n",
       "      <td>0.0</td>\n",
       "      <td>1.0</td>\n",
       "      <td>0.0</td>\n",
       "      <td>1.0</td>\n",
       "      <td>2.0</td>\n",
       "      <td>1.0</td>\n",
       "      <td>1.0</td>\n",
       "      <td>1.0</td>\n",
       "      <td>1.0</td>\n",
       "      <td>2.0</td>\n",
       "    </tr>\n",
       "  </tbody>\n",
       "</table>\n",
       "</div>"
      ],
      "text/plain": [
       "    firstblood  firstdragon  elders  firstherald  heralds  firstbaron  barons  \\\n",
       "10         0.0          0.0     0.0          1.0      1.0         1.0     1.0   \n",
       "11         1.0          1.0     0.0          0.0      1.0         0.0     0.0   \n",
       "22         0.0          0.0     0.0          0.0      0.0         0.0     0.0   \n",
       "23         1.0          1.0     0.0          1.0      2.0         1.0     2.0   \n",
       "34         0.0          1.0     0.0          1.0      2.0         1.0     1.0   \n",
       "\n",
       "    firsttower  firsttothreetowers  inhibitors  \n",
       "10         0.0                 0.0         1.0  \n",
       "11         1.0                 1.0         0.0  \n",
       "22         0.0                 0.0         0.0  \n",
       "23         1.0                 1.0         1.0  \n",
       "34         1.0                 1.0         2.0  "
      ]
     },
     "execution_count": 35,
     "metadata": {},
     "output_type": "execute_result"
    }
   ],
   "source": [
    "vif_X = X[['firstblood','firstdragon','elders','firstherald','heralds','firstbaron','barons','firsttower','firsttothreetowers','inhibitors']]\n",
    "vif_X.head()"
   ]
  },
  {
   "cell_type": "code",
   "execution_count": 36,
   "metadata": {},
   "outputs": [],
   "source": [
    "# 다시 데이터 분류\n",
    "y = na_droped_data['result'].values\n",
    "\n",
    "X_train, X_test, y_train, y_test = train_test_split(vif_X, y, test_size=0.2, random_state=42)"
   ]
  },
  {
   "cell_type": "code",
   "execution_count": 37,
   "metadata": {},
   "outputs": [
    {
     "data": {
      "text/plain": [
       "LogisticRegression(max_iter=500)"
      ]
     },
     "execution_count": 37,
     "metadata": {},
     "output_type": "execute_result"
    }
   ],
   "source": [
    "from sklearn.linear_model import LogisticRegression  \n",
    "  \n",
    "log_clf = LogisticRegression(max_iter=500)  \n",
    "\n",
    "log_clf.fit(X_train, y_train)"
   ]
  },
  {
   "cell_type": "code",
   "execution_count": 38,
   "metadata": {},
   "outputs": [
    {
     "data": {
      "text/plain": [
       "0.9513576545060803"
      ]
     },
     "execution_count": 38,
     "metadata": {},
     "output_type": "execute_result"
    }
   ],
   "source": [
    "from sklearn.metrics import accuracy_score\n",
    "accuracy_score(y_train, log_clf.predict(X_train))"
   ]
  },
  {
   "cell_type": "code",
   "execution_count": 39,
   "metadata": {},
   "outputs": [
    {
     "data": {
      "text/plain": [
       "0.9526903215059137"
      ]
     },
     "execution_count": 39,
     "metadata": {},
     "output_type": "execute_result"
    }
   ],
   "source": [
    "# test\n",
    "accuracy_score(y_test, log_clf.predict(X_test))"
   ]
  },
  {
   "cell_type": "code",
   "execution_count": 42,
   "metadata": {},
   "outputs": [
    {
     "data": {
      "text/plain": [
       "array([[22321,  1606],\n",
       "       [  725, 23372]], dtype=int64)"
      ]
     },
     "execution_count": 42,
     "metadata": {},
     "output_type": "execute_result"
    }
   ],
   "source": [
    "from sklearn.metrics import confusion_matrix\n",
    "from sklearn.model_selection import cross_val_score,cross_val_predict\n",
    "\n",
    "y_train_pred = cross_val_predict(log_clf, X_train, y_train, cv = 5)\n",
    "confusion_matrix(y_train, y_train_pred)"
   ]
  },
  {
   "cell_type": "code",
   "execution_count": 66,
   "metadata": {},
   "outputs": [
    {
     "data": {
      "text/plain": [
       "array([[22314,  1613],\n",
       "       [  723, 23374]], dtype=int64)"
      ]
     },
     "execution_count": 66,
     "metadata": {},
     "output_type": "execute_result"
    }
   ],
   "source": [
    "y_train_pred = cross_val_predict(log_clf, X_train, y_train, cv = 5)\n",
    "confusion_matrix(y_train,log_clf.predict(X_train))"
   ]
  },
  {
   "cell_type": "code",
   "execution_count": 43,
   "metadata": {},
   "outputs": [
    {
     "name": "stdout",
     "output_type": "stream",
     "text": [
      "0.9514617586243455\n"
     ]
    }
   ],
   "source": [
    "y_scores = cross_val_score(log_clf, X_train, y_train, cv = 5,scoring=\"accuracy\")\n",
    "print(np.mean(y_scores))"
   ]
  },
  {
   "cell_type": "code",
   "execution_count": 85,
   "metadata": {},
   "outputs": [
    {
     "name": "stdout",
     "output_type": "stream",
     "text": [
      "0.9513784774279527\n"
     ]
    }
   ],
   "source": [
    "y_scores = cross_val_score(log_clf, X_train, y_train, cv = 3,scoring=\"accuracy\")\n",
    "print(np.mean(y_scores))"
   ]
  },
  {
   "cell_type": "code",
   "execution_count": 40,
   "metadata": {},
   "outputs": [
    {
     "name": "stdout",
     "output_type": "stream",
     "text": [
      "[[5611  387]\n",
      " [ 181 5827]]\n",
      "0.9526903215059137\n",
      "0.9377212745413582\n",
      "0.9698735019973369\n",
      "0.9526759974141402\n"
     ]
    }
   ],
   "source": [
    "# 테스트용 실제 레이블 값을 y_test, 예측값을 pred라고 하자.\n",
    "from sklearn.metrics import accuracy_score, precision_score, recall_score, confusion_matrix,roc_auc_score\n",
    "\n",
    "# 오차행렬\n",
    "print(confusion_matrix(y_test, log_clf.predict(X_test)))\n",
    "# 정확도\n",
    "print(accuracy_score(y_test, log_clf.predict(X_test)))\n",
    "# 정밀도\n",
    "print(precision_score(y_test, log_clf.predict(X_test)))\n",
    "# 재현율\n",
    "print(recall_score(y_test, log_clf.predict(X_test)))\n",
    "# ROC\n",
    "print(roc_auc_score(y_test, log_clf.predict(X_test)))"
   ]
  },
  {
   "cell_type": "code",
   "execution_count": 69,
   "metadata": {},
   "outputs": [],
   "source": [
    "y_scores1 = cross_val_predict(log_clf,X_train,y_train,cv = 5,method=\"decision_function\")"
   ]
  },
  {
   "cell_type": "code",
   "execution_count": 70,
   "metadata": {},
   "outputs": [],
   "source": [
    "from sklearn.metrics import precision_recall_curve\n",
    "\n",
    "precisions, recalls, thresholds = precision_recall_curve(y_train, y_scores1)"
   ]
  },
  {
   "cell_type": "code",
   "execution_count": 499,
   "metadata": {},
   "outputs": [
    {
     "data": {
      "text/plain": [
       "array([0.74684643, 0.74683858, 0.74686173, ..., 1.        , 1.        ,\n",
       "       1.        ])"
      ]
     },
     "execution_count": 499,
     "metadata": {},
     "output_type": "execute_result"
    }
   ],
   "source": [
    "precisions"
   ]
  },
  {
   "cell_type": "code",
   "execution_count": 500,
   "metadata": {},
   "outputs": [
    {
     "data": {
      "text/plain": [
       "array([-7.74942199, -7.74936514, -7.74895435, ..., 19.32948438,\n",
       "       20.58424612, 21.82145517])"
      ]
     },
     "execution_count": 500,
     "metadata": {},
     "output_type": "execute_result"
    }
   ],
   "source": [
    "thresholds"
   ]
  },
  {
   "cell_type": "code",
   "execution_count": 77,
   "metadata": {},
   "outputs": [
    {
     "data": {
      "text/plain": [
       "[<matplotlib.lines.Line2D at 0x2119eb033a0>]"
      ]
     },
     "execution_count": 77,
     "metadata": {},
     "output_type": "execute_result"
    },
    {
     "data": {
      "image/png": "[encoded data removed]",
      "text/plain": [
       "<Figure size 432x288 with 1 Axes>"
      ]
     },
     "metadata": {
      "needs_background": "light"
     },
     "output_type": "display_data"
    }
   ],
   "source": [
    "#plt.xlim(-50000,50000)\n",
    "plt.ylim(0,1)\n",
    "plt.plot(precisions)\n",
    "plt.plot(recalls)\n",
    "plt.plot(thresholds)"
   ]
  },
  {
   "cell_type": "code",
   "execution_count": 74,
   "metadata": {},
   "outputs": [
    {
     "data": {
      "text/plain": [
       "0.975105469568331"
      ]
     },
     "execution_count": 74,
     "metadata": {},
     "output_type": "execute_result"
    }
   ],
   "source": [
    "from sklearn.metrics import roc_auc_score\n",
    "\n",
    "roc_auc_score(y_train,y_scores1)"
   ]
  },
  {
   "cell_type": "code",
   "execution_count": 75,
   "metadata": {},
   "outputs": [
    {
     "data": {
      "image/png": "[encoded data removed]",
      "text/plain": [
       "<Figure size 432x288 with 1 Axes>"
      ]
     },
     "metadata": {
      "needs_background": "light"
     },
     "output_type": "display_data"
    }
   ],
   "source": [
    "# ROC\n",
    "from sklearn.metrics import roc_curve\n",
    "def plot_roc_curve(fpr, tpr, label=None):\n",
    "    plt.plot(fpr, tpr, linewidth=2, label=label)\n",
    "    plt.plot([0, 1], [0, 1], 'k--') # dashed diagonal\n",
    "    plt.axis([0, 1, 0, 1])                                    # Not shown in the book\n",
    "    plt.xlabel('False Positive Rate (Fall-Out)', fontsize=16) # Not shown\n",
    "    plt.ylabel('True Positive Rate (Recall)', fontsize=16)    # Not shown\n",
    "    plt.grid(True)  \n",
    "fpr, tpr, thresholds = roc_curve(y_train, y_scores1)\n",
    "plot_roc_curve(fpr, tpr)"
   ]
  },
  {
   "attachments": {},
   "cell_type": "markdown",
   "metadata": {},
   "source": [
    "### SVM"
   ]
  },
  {
   "cell_type": "code",
   "execution_count": 48,
   "metadata": {},
   "outputs": [],
   "source": [
    "from sklearn.preprocessing import StandardScaler  \n",
    "  \n",
    "scaler = StandardScaler()  \n",
    "\n",
    "scaled_X = scaler.fit_transform(X)  \n",
    "\n",
    "X_train, X_test, y_train, y_test = train_test_split(scaled_X, y, test_size=0.2, random_state=42)"
   ]
  },
  {
   "cell_type": "code",
   "execution_count": 60,
   "metadata": {},
   "outputs": [
    {
     "data": {
      "text/plain": [
       "Index(['sup_apg', 'kills', 'deaths', 'assists', 'team kpm', 'dragons',\n",
       "       'firstbaron', 'barons', 'towers', 'firsttothreetowers', 'inhibitors',\n",
       "       'golddiffat10', 'goldat15', 'golddiffat15', 'xpdiffat15'],\n",
       "      dtype='object')"
      ]
     },
     "execution_count": 60,
     "metadata": {},
     "output_type": "execute_result"
    }
   ],
   "source": [
    "from sklearn.feature_selection import f_classif, SelectKBest\n",
    "\n",
    "# 특성 선택을 위한 SelectKBest를 진행 - K는 특성 수\n",
    "selector = SelectKBest(score_func = f_classif, k = 15)\n",
    "X_train_selected = selector.fit_transform(X_train, y_train)\n",
    "X_test_selected = selector.transform(X_test)\n",
    "\n",
    "# 선택된 column의 이름을 확인하는 작업\n",
    "all_names = X_train.columns\n",
    "selected_mask = selector.get_support()\n",
    "selected_name = all_names[selected_mask]\n",
    "selected_name"
   ]
  },
  {
   "cell_type": "code",
   "execution_count": 61,
   "metadata": {},
   "outputs": [
    {
     "data": {
      "text/plain": [
       "SVC(random_state=42)"
      ]
     },
     "execution_count": 61,
     "metadata": {},
     "output_type": "execute_result"
    }
   ],
   "source": [
    "from sklearn import svm\n",
    "from sklearn.preprocessing import StandardScaler  \n",
    "   \n",
    "scaler = StandardScaler()  \n",
    "#X_train[selected_name]vif_X\n",
    "scaled_X_train = scaler.fit_transform(X_train[selected_name])  \n",
    "\n",
    "svm_clf = svm.SVC(kernel='rbf',random_state=42)\n",
    "svm_clf.fit(scaled_X_train,y_train)"
   ]
  },
  {
   "cell_type": "code",
   "execution_count": 62,
   "metadata": {},
   "outputs": [
    {
     "data": {
      "text/plain": [
       "0.9854031317674496"
      ]
     },
     "execution_count": 62,
     "metadata": {},
     "output_type": "execute_result"
    }
   ],
   "source": [
    "svm_clf.score(scaled_X_train,y_train)"
   ]
  },
  {
   "cell_type": "code",
   "execution_count": 64,
   "metadata": {},
   "outputs": [
    {
     "data": {
      "text/plain": [
       "0.9839247043145094"
      ]
     },
     "execution_count": 64,
     "metadata": {},
     "output_type": "execute_result"
    }
   ],
   "source": [
    "svm_clf.score(scaler.fit_transform(X_test[selected_name]),y_test)"
   ]
  },
  {
   "cell_type": "code",
   "execution_count": 63,
   "metadata": {},
   "outputs": [
    {
     "data": {
      "text/plain": [
       "0.9854031317674496"
      ]
     },
     "execution_count": 63,
     "metadata": {},
     "output_type": "execute_result"
    }
   ],
   "source": [
    "from sklearn.metrics import accuracy_score\n",
    "accuracy_score(y_train, svm_clf.predict(scaled_X_train))"
   ]
  },
  {
   "cell_type": "code",
   "execution_count": 124,
   "metadata": {},
   "outputs": [
    {
     "name": "stdout",
     "output_type": "stream",
     "text": [
      "Fitting 3 folds for each of 9 candidates, totalling 27 fits\n"
     ]
    },
    {
     "data": {
      "text/plain": [
       "GridSearchCV(cv=3, estimator=SVC(probability=True, random_state=42), n_jobs=-1,\n",
       "             param_grid={'C': [0.001, 0.01, 0.1], 'gamma': [0.001, 0.01, 0.1]},\n",
       "             verbose=1)"
      ]
     },
     "execution_count": 124,
     "metadata": {},
     "output_type": "execute_result"
    }
   ],
   "source": [
    "# 하이퍼 파라미터 튜닝\n",
    "from sklearn.model_selection import GridSearchCV\n",
    "param_grid = {'C': [0.001, 0.01, 0.1], 'gamma': [0.001, 0.01, 0.1]}\n",
    "\n",
    "svm_clf = svm.SVC(kernel='rbf',random_state=42,probability=True)\n",
    "grid_search_cv = GridSearchCV(svm_clf, param_grid, cv = 3,\n",
    "                              n_jobs = -1,verbose=1)\n",
    "grid_search_cv.fit(scaled_X_train,y_train)"
   ]
  },
  {
   "cell_type": "code",
   "execution_count": 67,
   "metadata": {},
   "outputs": [
    {
     "name": "stdout",
     "output_type": "stream",
     "text": [
      "최적 매개변수: {'C': 0.1, 'gamma': 0.1}\n",
      "최고 교차 검증 점수: 0.98\n",
      "최고 성능 모델:\n",
      "SVC(C=0.1, gamma=0.1, random_state=42)\n"
     ]
    }
   ],
   "source": [
    "print(\"최적 매개변수: {}\".format(grid_search_cv.best_params_))\n",
    "print(\"최고 교차 검증 점수: {:.2f}\".format(grid_search_cv.best_score_))\n",
    "print(\"최고 성능 모델:\\n{}\".format(grid_search_cv.best_estimator_))"
   ]
  },
  {
   "cell_type": "code",
   "execution_count": 126,
   "metadata": {},
   "outputs": [],
   "source": [
    "svm_bp = grid_search_cv.best_estimator_"
   ]
  },
  {
   "cell_type": "code",
   "execution_count": 46,
   "metadata": {},
   "outputs": [
    {
     "data": {
      "text/plain": [
       "0.9839247043145094"
      ]
     },
     "execution_count": 46,
     "metadata": {},
     "output_type": "execute_result"
    }
   ],
   "source": [
    "accuracy_score(y_test, svm_clf.predict(scaler.fit_transform(X_test[selected_name])))"
   ]
  },
  {
   "cell_type": "code",
   "execution_count": 502,
   "metadata": {},
   "outputs": [],
   "source": [
    "y_scores1 = cross_val_predict(svm_clf,X_train,y_train,cv = 5,method=\"decision_function\")"
   ]
  },
  {
   "cell_type": "code",
   "execution_count": 69,
   "metadata": {},
   "outputs": [
    {
     "name": "stdout",
     "output_type": "stream",
     "text": [
      "[[5835  163]\n",
      " [  63 5945]]\n",
      "0.981176078627353\n",
      "0.973313686967911\n",
      "0.9895139813581891\n",
      "0.9811691280582209\n"
     ]
    }
   ],
   "source": [
    "# 테스트용 실제 레이블 값을 y_test, 예측값을 pred라고 하자.\n",
    "from sklearn.metrics import accuracy_score, precision_score, recall_score, confusion_matrix,roc_auc_score\n",
    "\n",
    "# 오차행렬\n",
    "print(confusion_matrix(y_test, svm_bp.predict(scaler.fit_transform(X_test[selected_name]))))\n",
    "# 정확도\n",
    "print(accuracy_score(y_test, svm_bp.predict(scaler.fit_transform(X_test[selected_name]))))\n",
    "# 정밀도\n",
    "print(precision_score(y_test, svm_bp.predict(scaler.fit_transform(X_test[selected_name]))))\n",
    "# 재현율\n",
    "print(recall_score(y_test, svm_bp.predict(scaler.fit_transform(X_test[selected_name]))))\n",
    "# ROC\n",
    "print(roc_auc_score(y_test, svm_bp.predict(scaler.fit_transform(X_test[selected_name]))))"
   ]
  },
  {
   "attachments": {},
   "cell_type": "markdown",
   "metadata": {},
   "source": [
    "### decision tree"
   ]
  },
  {
   "cell_type": "code",
   "execution_count": 129,
   "metadata": {},
   "outputs": [],
   "source": [
    "from sklearn.model_selection import train_test_split\n",
    "\n",
    "X = na_droped_data.iloc[:,1:]\n",
    "y = na_droped_data['result']\n",
    "\n",
    "X_train, X_test, y_train, y_test = train_test_split(X, y, test_size=0.2, random_state=42)"
   ]
  },
  {
   "cell_type": "code",
   "execution_count": 58,
   "metadata": {},
   "outputs": [
    {
     "data": {
      "text/plain": [
       "Index(['sup_apg', 'kills', 'deaths', 'assists', 'team kpm', 'dragons',\n",
       "       'firstbaron', 'barons', 'towers', 'firsttothreetowers', 'inhibitors',\n",
       "       'golddiffat10', 'goldat15', 'golddiffat15', 'xpdiffat15'],\n",
       "      dtype='object')"
      ]
     },
     "execution_count": 58,
     "metadata": {},
     "output_type": "execute_result"
    }
   ],
   "source": [
    "from sklearn.feature_selection import f_classif, SelectKBest\n",
    "\n",
    "# 특성 선택을 위한 SelectKBest를 진행 - K는 특성 수\n",
    "selector = SelectKBest(score_func = f_classif, k = 15)\n",
    "X_train_selected = selector.fit_transform(X_train, y_train)\n",
    "X_test_selected = selector.transform(X_test)\n",
    "\n",
    "# 선택된 column의 이름을 확인하는 작업\n",
    "all_names = X_train.columns\n",
    "selected_mask = selector.get_support()\n",
    "selected_name = all_names[selected_mask]\n",
    "selected_name"
   ]
  },
  {
   "cell_type": "code",
   "execution_count": 71,
   "metadata": {},
   "outputs": [
    {
     "data": {
      "text/plain": [
       "DecisionTreeClassifier(random_state=42)"
      ]
     },
     "execution_count": 71,
     "metadata": {},
     "output_type": "execute_result"
    }
   ],
   "source": [
    "from sklearn.tree import DecisionTreeClassifier\n",
    "\n",
    "DT_clf = DecisionTreeClassifier(random_state=42)\n",
    "DT_clf.fit(X_train,y_train)"
   ]
  },
  {
   "cell_type": "code",
   "execution_count": 72,
   "metadata": {},
   "outputs": [
    {
     "data": {
      "text/plain": [
       "array([[23927,     0],\n",
       "       [    0, 24097]], dtype=int64)"
      ]
     },
     "execution_count": 72,
     "metadata": {},
     "output_type": "execute_result"
    }
   ],
   "source": [
    "from sklearn.metrics import confusion_matrix\n",
    "y_train_pred_no_cv = DT_clf.predict(X_train)\n",
    "confusion_matrix(y_train, y_train_pred_no_cv)"
   ]
  },
  {
   "cell_type": "code",
   "execution_count": 73,
   "metadata": {},
   "outputs": [
    {
     "data": {
      "image/png": "[encoded data removed]",
      "text/plain": [
       "<Figure size 720x504 with 1 Axes>"
      ]
     },
     "metadata": {
      "needs_background": "light"
     },
     "output_type": "display_data"
    }
   ],
   "source": [
    "import matplotlib.pyplot as plt\n",
    "from sklearn.tree import plot_tree\n",
    "\n",
    "plt.figure(figsize=(10,7))\n",
    "plot_tree(DT_clf)\n",
    "plt.show()"
   ]
  },
  {
   "cell_type": "code",
   "execution_count": 81,
   "metadata": {},
   "outputs": [
    {
     "name": "stdout",
     "output_type": "stream",
     "text": [
      "Fitting 5 folds for each of 60 candidates, totalling 300 fits\n"
     ]
    },
    {
     "data": {
      "text/plain": [
       "GridSearchCV(cv=5, estimator=DecisionTreeClassifier(random_state=42), n_jobs=-1,\n",
       "             param_grid={'max_depth': [3, 4, 5],\n",
       "                         'max_leaf_nodes': [4, 5, 6, 7, 8],\n",
       "                         'min_samples_leaf': [50, 100, 150, 200]},\n",
       "             verbose=1)"
      ]
     },
     "execution_count": 81,
     "metadata": {},
     "output_type": "execute_result"
    }
   ],
   "source": [
    "from sklearn.model_selection import GridSearchCV\n",
    "param_grid = {'max_depth' : [3,4,5],'min_samples_leaf': [50,100,150,200],'max_leaf_nodes':[4,5,6,7,8]}\n",
    "\n",
    "tree_clf = DecisionTreeClassifier(random_state=42)\n",
    "grid_search_cv = GridSearchCV(tree_clf, param_grid, cv = 5,\n",
    "                              n_jobs = -1,verbose=1)\n",
    "grid_search_cv.fit(X_train,y_train)"
   ]
  },
  {
   "cell_type": "code",
   "execution_count": 82,
   "metadata": {},
   "outputs": [
    {
     "data": {
      "text/plain": [
       "{'max_depth': 4, 'max_leaf_nodes': 8, 'min_samples_leaf': 50}"
      ]
     },
     "execution_count": 82,
     "metadata": {},
     "output_type": "execute_result"
    }
   ],
   "source": [
    "grid_search_cv.best_params_"
   ]
  },
  {
   "cell_type": "code",
   "execution_count": 83,
   "metadata": {},
   "outputs": [
    {
     "data": {
      "text/plain": [
       "DecisionTreeClassifier(max_depth=4, max_leaf_nodes=8, min_samples_leaf=50,\n",
       "                       random_state=42)"
      ]
     },
     "execution_count": 83,
     "metadata": {},
     "output_type": "execute_result"
    }
   ],
   "source": [
    "# 전처리만 한 데이터에 파라미터 결정\n",
    "dt_1 = grid_search_cv.best_estimator_;dt_1"
   ]
  },
  {
   "cell_type": "code",
   "execution_count": 84,
   "metadata": {},
   "outputs": [
    {
     "data": {
      "image/png": "[encoded data removed]",
      "text/plain": [
       "<Figure size 1440x1080 with 1 Axes>"
      ]
     },
     "metadata": {
      "needs_background": "light"
     },
     "output_type": "display_data"
    }
   ],
   "source": [
    "plt.figure(figsize=(20,15))\n",
    "plot_tree(dt_1)\n",
    "plt.show()"
   ]
  },
  {
   "cell_type": "code",
   "execution_count": 102,
   "metadata": {},
   "outputs": [
    {
     "name": "stdout",
     "output_type": "stream",
     "text": [
      "[[5822  176]\n",
      " [ 173 5835]]\n",
      "0.9709312010661336\n",
      "0.9707203460322742\n",
      "0.9712050599201065\n",
      "0.9709309727743246\n"
     ]
    }
   ],
   "source": [
    "# 테스트용 실제 레이블 값을 y_test, 예측값을 pred라고 하자.\n",
    "from sklearn.metrics import accuracy_score, precision_score, recall_score, confusion_matrix,roc_auc_score\n",
    "\n",
    "# 오차행렬\n",
    "print(confusion_matrix(y_test, dt_1.predict(X_test)))\n",
    "# 정확도\n",
    "print(accuracy_score(y_test, dt_1.predict(X_test)))\n",
    "# 정밀도\n",
    "print(precision_score(y_test, dt_1.predict(X_test)))\n",
    "# 재현율\n",
    "print(recall_score(y_test, dt_1.predict(X_test)))\n",
    "# ROC\n",
    "print(roc_auc_score(y_test, dt_1.predict(X_test)))"
   ]
  },
  {
   "cell_type": "code",
   "execution_count": 134,
   "metadata": {},
   "outputs": [],
   "source": [
    "# 다중공선성 때 사용했던 변수 재사용\n",
    "vif_X = X[['firstblood','firstdragon','elders','firstherald','heralds','firstbaron','barons','firsttower','firsttothreetowers','inhibitors']]\n",
    "vif_X.head()\n",
    "# 다시 데이터 분류\n",
    "y = na_droped_data['result']\n",
    "\n",
    "X_train1, X_test1, y_train1, y_test1 = train_test_split(vif_X, y, test_size=0.2, random_state=42)"
   ]
  },
  {
   "cell_type": "code",
   "execution_count": 94,
   "metadata": {},
   "outputs": [
    {
     "name": "stdout",
     "output_type": "stream",
     "text": [
      "Fitting 5 folds for each of 60 candidates, totalling 300 fits\n"
     ]
    },
    {
     "data": {
      "text/plain": [
       "GridSearchCV(cv=5, estimator=DecisionTreeClassifier(random_state=42), n_jobs=-1,\n",
       "             param_grid={'max_depth': [3, 4, 5],\n",
       "                         'max_leaf_nodes': [4, 5, 6, 7, 8],\n",
       "                         'min_samples_leaf': [50, 100, 150, 200]},\n",
       "             verbose=1)"
      ]
     },
     "execution_count": 94,
     "metadata": {},
     "output_type": "execute_result"
    }
   ],
   "source": [
    "# 하이퍼 파라미터 튜닝\n",
    "from sklearn.model_selection import GridSearchCV\n",
    "param_grid = {'max_depth' : [3,4,5],'min_samples_leaf': [50,100,150,200],'max_leaf_nodes':[4,5,6,7,8]}\n",
    "\n",
    "tree_clf = DecisionTreeClassifier(random_state=42)\n",
    "grid_search_cv = GridSearchCV(tree_clf, param_grid, cv = 5,\n",
    "                              n_jobs = -1,verbose=1)\n",
    "grid_search_cv.fit(X_train1,y_train1)"
   ]
  },
  {
   "cell_type": "code",
   "execution_count": 95,
   "metadata": {},
   "outputs": [
    {
     "data": {
      "text/plain": [
       "{'max_depth': 3, 'max_leaf_nodes': 4, 'min_samples_leaf': 50}"
      ]
     },
     "execution_count": 95,
     "metadata": {},
     "output_type": "execute_result"
    }
   ],
   "source": [
    "grid_search_cv.best_params_"
   ]
  },
  {
   "cell_type": "code",
   "execution_count": 96,
   "metadata": {},
   "outputs": [
    {
     "data": {
      "text/plain": [
       "DecisionTreeClassifier(max_depth=3, max_leaf_nodes=4, min_samples_leaf=50,\n",
       "                       random_state=42)"
      ]
     },
     "execution_count": 96,
     "metadata": {},
     "output_type": "execute_result"
    }
   ],
   "source": [
    "tree_dt = grid_search_cv.best_estimator_\n",
    "tree_dt"
   ]
  },
  {
   "cell_type": "code",
   "execution_count": 90,
   "metadata": {},
   "outputs": [
    {
     "data": {
      "image/png": "[encoded data removed]",
      "text/plain": [
       "<Figure size 1440x1080 with 1 Axes>"
      ]
     },
     "metadata": {
      "needs_background": "light"
     },
     "output_type": "display_data"
    }
   ],
   "source": [
    "plt.figure(figsize=(20,15))\n",
    "plot_tree(tree_dt)\n",
    "plt.show()"
   ]
  },
  {
   "cell_type": "code",
   "execution_count": 91,
   "metadata": {},
   "outputs": [
    {
     "data": {
      "text/plain": [
       "0.9611027819423622"
      ]
     },
     "execution_count": 91,
     "metadata": {},
     "output_type": "execute_result"
    }
   ],
   "source": [
    "tree_dt.score(X_test,y_test)"
   ]
  },
  {
   "cell_type": "code",
   "execution_count": 118,
   "metadata": {},
   "outputs": [
    {
     "name": "stdout",
     "output_type": "stream",
     "text": [
      "[[5549  449]\n",
      " [  18 5990]]\n",
      "0.9611027819423622\n",
      "0.9302686752601336\n",
      "0.9970039946737683\n",
      "0.9610728542892015\n",
      "              precision    recall  f1-score   support\n",
      "\n",
      "           0       1.00      0.93      0.96      5998\n",
      "           1       0.93      1.00      0.96      6008\n",
      "\n",
      "    accuracy                           0.96     12006\n",
      "   macro avg       0.96      0.96      0.96     12006\n",
      "weighted avg       0.96      0.96      0.96     12006\n",
      "\n"
     ]
    }
   ],
   "source": [
    "# 테스트용 실제 레이블 값을 y_test, 예측값을 pred라고 하자.\n",
    "from sklearn.metrics import accuracy_score, precision_score, recall_score, confusion_matrix,roc_auc_score, classification_report\n",
    "\n",
    "# 오차행렬\n",
    "print(confusion_matrix(y_test, tree_dt.predict(X_test)))\n",
    "# 정확도\n",
    "print(accuracy_score(y_test, tree_dt.predict(X_test)))\n",
    "# 정밀도\n",
    "print(precision_score(y_test, tree_dt.predict(X_test)))\n",
    "# 재현율\n",
    "print(recall_score(y_test, tree_dt.predict(X_test)))\n",
    "# ROC\n",
    "print(roc_auc_score(y_test, tree_dt.predict(X_test)))\n",
    "\n",
    "print(classification_report(y_test, tree_dt.predict(X_test)))"
   ]
  },
  {
   "cell_type": "code",
   "execution_count": 382,
   "metadata": {},
   "outputs": [
    {
     "data": {
      "text/plain": [
       "array([[23277,   650],\n",
       "       [  689, 23408]], dtype=int64)"
      ]
     },
     "execution_count": 382,
     "metadata": {},
     "output_type": "execute_result"
    }
   ],
   "source": [
    "y_train_pred = cross_val_predict(DT_clf, X_train, y_train, cv = 5)\n",
    "confusion_matrix(y_train, y_train_pred)"
   ]
  },
  {
   "attachments": {},
   "cell_type": "markdown",
   "metadata": {},
   "source": [
    "### 세 모델 비교"
   ]
  },
  {
   "cell_type": "code",
   "execution_count": null,
   "metadata": {},
   "outputs": [],
   "source": [
    "from sklearn.metrics import accuracy_score, roc_auc_score\n",
    "\n",
    "# 정확도와 roc_auc 측정\n",
    "print('accuracy: {:0.3f}'.format(accuracy_score(y_test, lr_preds)))\n",
    "print('roc_auc: {:0.3f}'.format(roc_auc_score(y_test, lr_preds)))"
   ]
  },
  {
   "cell_type": "code",
   "execution_count": 178,
   "metadata": {},
   "outputs": [
    {
     "data": {
      "image/png": "[encoded data removed]",
      "text/plain": [
       "<Figure size 432x432 with 1 Axes>"
      ]
     },
     "metadata": {
      "needs_background": "light"
     },
     "output_type": "display_data"
    }
   ],
   "source": [
    "from sklearn.metrics import roc_curve\n",
    "\n",
    "fpr, tpr, thresholds = roc_curve(y_test, dt_1.predict_proba(X_test)[:,1])\n",
    "#fpr1, tpr1, thresholds1 = roc_curve(y_test, log_clf.predict_proba(X_test)[:,1])\n",
    "#fpr2, tpr2, thresholds2 = roc_curve(y_test, svm_bp.predict_proba(scaler.fit_transform(X_test))[:,1])\n",
    "plt.figure(figsize=(6,6))\n",
    "plt.xlim(0,1)\n",
    "plt.ylim(0,1)\n",
    "plt.plot([0,1], [0,1], \"k--\", \"r+\")\n",
    "plt.plot(fpr, tpr, label='decisiontree')\n",
    "#plt.plot(fpr1, tpr1, label='logistic regression')\n",
    "#plt.plot(fpr2, tpr2, label='svm')\n",
    "plt.legend()\n",
    "plt.xlabel('FPR')\n",
    "plt.ylabel('TPR')\n",
    "plt.title('ROC curve')\n",
    "plt.show()\n"
   ]
  },
  {
   "cell_type": "code",
   "execution_count": 181,
   "metadata": {},
   "outputs": [
    {
     "data": {
      "image/png": "[encoded data removed]",
      "text/plain": [
       "<Figure size 432x432 with 1 Axes>"
      ]
     },
     "metadata": {
      "needs_background": "light"
     },
     "output_type": "display_data"
    },
    {
     "data": {
      "text/plain": [
       "<Figure size 432x288 with 0 Axes>"
      ]
     },
     "metadata": {},
     "output_type": "display_data"
    }
   ],
   "source": [
    "from sklearn.metrics import roc_curve\n",
    "\n",
    "#fpr, tpr, thresholds = roc_curve(y_test, dt_1.predict_proba(X_test)[:,1])\n",
    "fpr1, tpr1, thresholds1 = roc_curve(y_test1, log_clf.predict_proba(X_test1)[:,1])\n",
    "#fpr2, tpr2, thresholds2 = roc_curve(y_test, svm_bp.predict_proba(scaler.fit_transform(X_test))[:,1])\n",
    "#plt.box(False)\n",
    "plt.figure(figsize=(6,6))\n",
    "plt.xlim(0,1.1)\n",
    "plt.ylim(0,1.1)\n",
    "plt.plot([0,1], [0,1], \"k--\", \"r+\")\n",
    "#plt.plot(fpr, tpr, label='decisiontree')\n",
    "plt.plot(fpr1, tpr1,\"m-\",label='logistic regression')# label='logistic regression'\n",
    "#plt.plot(fpr2, tpr2, label='svm')\n",
    "plt.legend()\n",
    "plt.xlabel('FPR')\n",
    "plt.ylabel('TPR')\n",
    "plt.title('ROC curve')\n",
    "plt.show()\n",
    "plt.savefig('myfigure.pdf', transparent = True)"
   ]
  },
  {
   "cell_type": "code",
   "execution_count": 173,
   "metadata": {},
   "outputs": [
    {
     "data": {
      "image/png": "[encoded data removed]",
      "text/plain": [
       "<Figure size 432x288 with 1 Axes>"
      ]
     },
     "metadata": {
      "needs_background": "light"
     },
     "output_type": "display_data"
    },
    {
     "data": {
      "text/plain": [
       "<Figure size 432x288 with 0 Axes>"
      ]
     },
     "metadata": {},
     "output_type": "display_data"
    }
   ],
   "source": [
    "from sklearn.metrics import roc_curve\n",
    "\n",
    "#fpr, tpr, thresholds = roc_curve(y_test, dt_1.predict_proba(X_test)[:,1])\n",
    "#fpr1, tpr1, thresholds1 = roc_curve(y_test1, log_clf.predict_proba(X_test1)[:,1])\n",
    "fpr2, tpr2, thresholds2 = roc_curve(y_test, svm_bp.predict_proba(scaler.fit_transform(X_test[selected_name]))[:,1])\n",
    "#plt.box(False)\n",
    "plt.plot([0,1], [0,1], \"k--\", \"r+\")\n",
    "#plt.plot(fpr, tpr, label='decisiontree')\n",
    "#plt.plot(fpr1, tpr1,\"m-\")# label='logistic regression'\n",
    "plt.plot(fpr2, tpr2,'y', label='svm')#  label='svm'\n",
    "plt.legend()\n",
    "plt.xlabel('FPR')\n",
    "plt.ylabel('TPR')\n",
    "plt.title('ROC curve')\n",
    "plt.show()\n",
    "plt.savefig('myfigure.pdf', transparent = True)"
   ]
  }
 ],
 "metadata": {
  "kernelspec": {
   "display_name": "base",
   "language": "python",
   "name": "python3"
  },
  "language_info": {
   "codemirror_mode": {
    "name": "ipython",
    "version": 3
   },
   "file_extension": ".py",
   "mimetype": "text/x-python",
   "name": "python",
   "nbconvert_exporter": "python",
   "pygments_lexer": "ipython3",
   "version": "3.9.12"
  },
  "orig_nbformat": 4,
  "vscode": {
   "interpreter": {
    "hash": "62d72642a1b87cf2198ff7d700c5c61637b0727c708c22788fc7f86675f97f42"
   }
  }
 },
 "nbformat": 4,
 "nbformat_minor": 2
}
